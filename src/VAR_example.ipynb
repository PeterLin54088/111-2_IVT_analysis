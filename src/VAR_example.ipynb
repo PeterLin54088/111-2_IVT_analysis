{
 "cells": [
  {
   "cell_type": "code",
   "execution_count": 1,
   "id": "8c76d096-98c0-4b67-bd7e-555a83f5cd88",
   "metadata": {},
   "outputs": [],
   "source": [
    "# System\n",
    "import os\n",
    "import time\n",
    "import json\n",
    "import random\n",
    "\n",
    "# Data processing\n",
    "import numpy as np\n",
    "\n",
    "import matplotlib.pyplot as plt\n",
    "\n",
    "# Tensor\n",
    "from statsmodels.tsa.api import VAR"
   ]
  },
  {
   "cell_type": "code",
   "execution_count": 2,
   "id": "51962228-0bd5-4b47-b3af-e2bc08591bf6",
   "metadata": {},
   "outputs": [],
   "source": [
    "# Config path\n",
    "root = '/Volumes/Expansion/User_Backup/b08209033/111-2_IVT_analysis/'\n",
    "folder = '2023_0321'\n",
    "file = 'src/config.json'\n",
    "config_path = os.path.join(os.path.join(root, folder), file)\n",
    "\n",
    "# Import config\n",
    "with open(config_path) as infile:\n",
    "    config = json.load(infile)\n",
    "    infile.close()\n",
    "\n",
    "# Update config\n",
    "\n",
    "# Export config\n",
    "with open(config_path, 'w') as outfile:\n",
    "    json.dump(config, outfile, sort_keys=True)\n",
    "    outfile.close()"
   ]
  },
  {
   "cell_type": "code",
   "execution_count": 3,
   "id": "994824df-4286-4ef0-92da-c100414f96ff",
   "metadata": {},
   "outputs": [],
   "source": [
    "os.chdir(config[\"IVTPath\"])\n",
    "with np.load(config[\"IVT_SVD_fname\"]) as dataset:\n",
    "    time_structure = dataset['time']\n",
    "    feature_num = int(dataset['feature_threshold'][0][0])\n",
    "\n",
    "# Choose k important structure\n",
    "time_structure = (time_structure[:feature_num]).T"
   ]
  },
  {
   "cell_type": "code",
   "execution_count": 137,
   "id": "56e244e3-b2f8-4c0f-b23c-bbea9dc3fd15",
   "metadata": {},
   "outputs": [],
   "source": [
    "y = np.arange(100)/1000+np.arange(100).reshape(100,1)\n",
    "data_size = 100 - 10 - 10 + 1\n",
    "X = np.zeros((data_size, 10, 100))\n",
    "Y = np.zeros((data_size, 1, 100))\n",
    "for i in range(data_size):\n",
    "    X[i,:,:] = y[i:i+10,:]\n",
    "    Y[i,:,:] = y[i+10+10-1,:].reshape(1, -1)\n",
    "    "
   ]
  },
  {
   "cell_type": "code",
   "execution_count": 138,
   "id": "8439ab24-5e98-4b52-ba37-cea457e7cb3f",
   "metadata": {},
   "outputs": [],
   "source": [
    "model = VAR(y)"
   ]
  },
  {
   "cell_type": "code",
   "execution_count": 139,
   "id": "451721dc-8845-446d-b33e-db5a414af227",
   "metadata": {},
   "outputs": [],
   "source": [
    "results = model.fit(2)"
   ]
  },
  {
   "cell_type": "code",
   "execution_count": 142,
   "id": "07b18937-d4c2-4683-93a7-c36a74a5b7c8",
   "metadata": {},
   "outputs": [
    {
     "data": {
      "image/png": "[encoded data removed]",
      "text/plain": [
       "<Figure size 640x480 with 1 Axes>"
      ]
     },
     "metadata": {},
     "output_type": "display_data"
    }
   ],
   "source": [
    "seq_len = 10\n",
    "total_day = 10\n",
    "current_idx = random.randint(0,80)\n",
    "pred = results.forecast(X[current_idx], total_day)[-1,:]\n",
    "target = Y[current_idx].reshape(-1)\n",
    "plt.plot(pred)\n",
    "plt.plot(target)\n",
    "plt.show()"
   ]
  },
  {
   "cell_type": "code",
   "execution_count": null,
   "id": "14663284-7e19-4f44-b47d-0aaa3d5ce65f",
   "metadata": {},
   "outputs": [],
   "source": []
  },
  {
   "cell_type": "code",
   "execution_count": null,
   "id": "a151303f-ecf6-4406-8599-3a65d26ca921",
   "metadata": {},
   "outputs": [],
   "source": []
  }
 ],
 "metadata": {
  "kernelspec": {
   "display_name": "Python [conda env:default_env] *",
   "language": "python",
   "name": "conda-env-default_env-py"
  },
  "language_info": {
   "codemirror_mode": {
    "name": "ipython",
    "version": 3
   },
   "file_extension": ".py",
   "mimetype": "text/x-python",
   "name": "python",
   "nbconvert_exporter": "python",
   "pygments_lexer": "ipython3",
   "version": "3.9.13"
  }
 },
 "nbformat": 4,
 "nbformat_minor": 5
}
