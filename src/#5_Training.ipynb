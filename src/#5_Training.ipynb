{
 "cells": [
  {
   "cell_type": "markdown",
   "id": "322072e3-6e26-410c-adfc-bca09189e6a1",
   "metadata": {
    "jp-MarkdownHeadingCollapsed": true,
    "tags": []
   },
   "source": [
    "# Import"
   ]
  },
  {
   "cell_type": "code",
   "execution_count": null,
   "id": "f678f266-2ddd-48a4-9a1a-4b044eba2ef3",
   "metadata": {},
   "outputs": [],
   "source": [
    "# System\n",
    "import os\n",
    "import json\n",
    "\n",
    "# Data processing\n",
    "import numpy as np\n",
    "import math\n",
    "\n",
    "# Plot\n",
    "import matplotlib.pyplot as plt\n",
    "\n",
    "# ML\n",
    "    # pytorch\n",
    "import torch \n",
    "import torch.nn as nn\n",
    "from torch.utils.data import TensorDataset, DataLoader\n",
    "from torch.optim.lr_scheduler import CosineAnnealingWarmRestarts, StepLR\n",
    "torch.set_num_threads(4) # Processor Setting\n",
    "    # VAR\n",
    "from statsmodels.tsa.api import VAR as var_model\n",
    "from sklearn.preprocessing import MinMaxScaler\n",
    "    # ESN\n",
    "from scipy import linalg\n",
    "from sklearn.linear_model import Ridge"
   ]
  },
  {
   "cell_type": "markdown",
   "id": "b7892ebe-ef6f-4cc0-b752-07c9d27e87f9",
   "metadata": {
    "tags": []
   },
   "source": [
    "# Config"
   ]
  },
  {
   "cell_type": "code",
   "execution_count": null,
   "id": "2cae166a-9711-4fe1-9c81-506a49e3290b",
   "metadata": {},
   "outputs": [],
   "source": [
    "# Config path\n",
    "root = '/Volumes/Expansion/User_Backup/b08209033/111-2_IVT_analysis/'\n",
    "file = 'config.json'\n",
    "config_path = os.path.join(root, file)\n",
    "\n",
    "# Import config\n",
    "with open(config_path) as infile:\n",
    "    config = json.load(infile)\n",
    "    infile.close()\n",
    "\n",
    "# Update config\n",
    "    # ML Parameters\n",
    "        # DataLoader\n",
    "config.update({\"ML_hyperparam_lookback\": 1})\n",
    "config.update({\"ML_hyperparam_batch_size\": 32})\n",
    "        # Epoch\n",
    "config.update({\"ML_hyperparam_nepochs\": 1000})\n",
    "config.update({\"ML_hyperparam_early_stop\": 30})\n",
    "        # optim\n",
    "config.update({\"ML_hyperparam_learning_rate\": 5e-4})\n",
    "config.update({\"ML_hyperparam_weight_decay\": 3e-6})\n",
    "    # ML Fpath\n",
    "config.update({\"ML_path_model\": os.path.join(config[\"Path_root\"], \"models\")})\n",
    "config.update({\"ML_fname_model\": \"model.pt\"})\n",
    "\n",
    "# Export config\n",
    "with open(config_path, 'w') as outfile:\n",
    "    json.dump(config, outfile, sort_keys=True)\n",
    "    outfile.close()"
   ]
  },
  {
   "cell_type": "code",
   "execution_count": null,
   "id": "ad1521ed-e66a-4fe6-b959-6ccca5e06982",
   "metadata": {},
   "outputs": [],
   "source": [
    "device = 'cuda' if torch.cuda.is_available() else 'cpu'\n",
    "print(device)"
   ]
  },
  {
   "cell_type": "markdown",
   "id": "ee79d625-d9f2-47d1-81ce-28f3e1987dec",
   "metadata": {
    "jp-MarkdownHeadingCollapsed": true,
    "tags": []
   },
   "source": [
    "# DataLoader"
   ]
  },
  {
   "cell_type": "code",
   "execution_count": null,
   "id": "14745a3f-0938-47f3-8581-a746b2ba45fa",
   "metadata": {},
   "outputs": [],
   "source": [
    "def getDataLoader(train_set, valid_set, test_set, config):\n",
    "    \n",
    "    # Split, Train set\n",
    "    train_len = config[\"ML_split_size\"][0] - config[\"ML_hyperparam_lookback\"]\n",
    "    X_train = np.zeros((train_len, config[\"ML_hyperparam_lookback\"], train_set.shape[-1]))\n",
    "    Y_train = np.zeros((train_len,                                1, train_set.shape[-1]))\n",
    "    for i in range(train_len):\n",
    "        X_train[i,:,:] = train_set[i:i+config[\"ML_hyperparam_lookback\"],:]\n",
    "        Y_train[i,:,:] = train_set[i+config[\"ML_hyperparam_lookback\"],:].reshape(1, -1)\n",
    "    \n",
    "    # Split, Valid set\n",
    "    valid_len = config[\"ML_split_size\"][1] - config[\"ML_hyperparam_lookback\"]\n",
    "    X_valid = np.zeros((valid_len, config[\"ML_hyperparam_lookback\"], valid_set.shape[-1]))\n",
    "    Y_valid = np.zeros((valid_len,                                1, valid_set.shape[-1]))\n",
    "    for i in range(valid_len):\n",
    "        X_valid[i,:,:] = valid_set[i:i+config[\"ML_hyperparam_lookback\"],:]\n",
    "        Y_valid[i,:,:] = valid_set[i+config[\"ML_hyperparam_lookback\"],:].reshape(1, -1)\n",
    "    \n",
    "    # Split, Test set\n",
    "    test_len = config[\"ML_split_size\"][2] - config[\"ML_hyperparam_lookback\"]\n",
    "    X_test = np.zeros((test_len, config[\"ML_hyperparam_lookback\"], test_set.shape[-1]))\n",
    "    Y_test = np.zeros((test_len,                                1, test_set.shape[-1]))\n",
    "    for i in range(test_len):\n",
    "        X_test[i,:,:] = test_set[i:i+config[\"ML_hyperparam_lookback\"],:]\n",
    "        Y_test[i,:,:] = test_set[i+config[\"ML_hyperparam_lookback\"],:].reshape(1, -1)\n",
    "    # To Tensor\n",
    "    X_train = torch.from_numpy(X_train)\n",
    "    Y_train = torch.from_numpy(Y_train)\n",
    "    X_valid = torch.from_numpy(X_valid)\n",
    "    Y_valid = torch.from_numpy(Y_valid)\n",
    "    X_test  = torch.from_numpy(X_test)\n",
    "    Y_test  = torch.from_numpy(Y_test)\n",
    "    # To Dataset\n",
    "    train_data = TensorDataset(X_train, Y_train)\n",
    "    valid_data = TensorDataset(X_valid, Y_valid)\n",
    "    test_data  = TensorDataset(X_test,  Y_test)\n",
    "    # To DataLoader\n",
    "    train_loader = DataLoader(train_data, \n",
    "                              batch_size = config[\"ML_hyperparam_batch_size\"],\n",
    "                              shuffle = False,\n",
    "                              pin_memory = True)\n",
    "    valid_loader = DataLoader(valid_data, \n",
    "                              batch_size = config[\"ML_hyperparam_batch_size\"],\n",
    "                              shuffle = False,\n",
    "                              pin_memory = True)\n",
    "    test_loader  = DataLoader(test_data, \n",
    "                              batch_size = config[\"ML_hyperparam_batch_size\"],\n",
    "                              shuffle = False,\n",
    "                              pin_memory = True)\n",
    "    return train_loader, valid_loader, test_loader"
   ]
  },
  {
   "cell_type": "code",
   "execution_count": null,
   "id": "c7b50818-2931-4170-8c4a-8e48c07d2fcc",
   "metadata": {},
   "outputs": [],
   "source": [
    "# Read dataset\n",
    "os.chdir(config[\"Path_IVT_calculation\"])\n",
    "with np.load(config[\"ML_fname_dataset\"]) as dataset:\n",
    "    train_set = dataset[\"train\"]\n",
    "    valid_set = dataset[\"valid\"]\n",
    "    test_set  = dataset[\"test\"]\n",
    "# To DataLoader\n",
    "train_loader, valid_loader, test_loader = getDataLoader(train_set, valid_set, test_set, config)"
   ]
  },
  {
   "cell_type": "markdown",
   "id": "5a70500a-08f0-4fa6-b9ec-59f8499e7ea0",
   "metadata": {
    "tags": []
   },
   "source": [
    "# GRU"
   ]
  },
  {
   "cell_type": "code",
   "execution_count": null,
   "id": "5bc212b2-09b8-40e8-91de-c68e06bec668",
   "metadata": {},
   "outputs": [],
   "source": [
    "class GatedRecurrentUnit(object):\n",
    "    def __init__(self, input_size, hidden_size, output_size, num_layers, device):\n",
    "        self.device = device\n",
    "        self.model = pytorch_GRU_FC(input_size  = input_size,\n",
    "                                    hidden_size = hidden_size,\n",
    "                                    output_size = output_size,\n",
    "                                    num_layers  = num_layers).to(self.device).double()\n",
    "        return None\n",
    "    def trainer(self, train_loader, valid_loader, config):\n",
    "        # Epoch\n",
    "        n_epochs, step, early_stop_count = config['ML_hyperparam_nepochs'], 0, 0\n",
    "        # Loss function\n",
    "        best_loss = math.inf\n",
    "        criterion = nn.MSELoss(reduction='mean').to(self.device)\n",
    "        mean_train_loss_record = []\n",
    "        mean_valid_loss_record = []\n",
    "        # Optimizer\n",
    "        optimizer = torch.optim.Adam(self.model.parameters(), \n",
    "                                     lr = config['ML_hyperparam_learning_rate'], \n",
    "                                     weight_decay = config['ML_hyperparam_weight_decay'])\n",
    "        # Scheduler\n",
    "        scheduler_CAWR = CosineAnnealingWarmRestarts(optimizer, \n",
    "                                                     T_0     = 50, \n",
    "                                                     T_mult  = 5, \n",
    "                                                     eta_min = config['ML_hyperparam_weight_decay']/1e4)\n",
    "        # Training & Validating stage\n",
    "        # In each epoch\n",
    "            # Learn all train data one time\n",
    "            # Learn all valid data one time\n",
    "            # Evaluate learning progress\n",
    "        for epoch in range(n_epochs):\n",
    "            # Init\n",
    "            self.model.train()\n",
    "            loss_record = []\n",
    "            \n",
    "            for (x, y) in train_loader:\n",
    "                optimizer.zero_grad() # Reset gradient\n",
    "                x, y = x.to(self.device), y.to(self.device)\n",
    "                pred = self.model(x)\n",
    "                loss = criterion(pred[:,-1,:], y[:,-1,:]) # Calculate loss\n",
    "                loss.backward() # Backward propagation\n",
    "                optimizer.step() # Update model parameter\n",
    "                step += 1\n",
    "                loss_record.append(loss.detach().item())\n",
    "\n",
    "            scheduler_CAWR.step()\n",
    "\n",
    "            mean_train_loss_record.append(sum(loss_record)/len(loss_record))\n",
    "\n",
    "            # Init\n",
    "            self.model.eval() # VALIDATE\n",
    "            loss_record = []\n",
    "            \n",
    "            for (x, y) in valid_loader:\n",
    "                with torch.no_grad():\n",
    "                    x, y = x.to(self.device), y.to(self.device)\n",
    "                    pred = self.model(x)\n",
    "                    loss = criterion(pred[:,-1,:], y[:,-1,:]) # Calculate loss\n",
    "                # Detach loss\n",
    "                loss_record.append(loss.item())\n",
    "\n",
    "            # Valid loss\n",
    "            mean_valid_loss_record.append(sum(loss_record)/len(loss_record))\n",
    "\n",
    "            # Show progress\n",
    "            if (epoch%10==0):\n",
    "                print(f'Epoch [{epoch+1}/{n_epochs}]: Train loss: {mean_train_loss_record[-1]:.7f}, Valid loss: {mean_valid_loss_record[-1]:.7f}')\n",
    "\n",
    "            # Save model parameter if better\n",
    "            if mean_valid_loss_record[-1] < best_loss:\n",
    "                best_loss = mean_valid_loss_record[-1]\n",
    "                os.chdir(config[\"ML_path_model\"])\n",
    "                torch.save(self.model, config[\"ML_fname_model\"])\n",
    "                early_stop_count = 0\n",
    "            else: \n",
    "                early_stop_count += 1\n",
    "\n",
    "            # Early stop\n",
    "            if early_stop_count >= config['ML_hyperparam_early_stop']:\n",
    "                print('\\nModel is not improving, so we halt the training session.')\n",
    "                return mean_train_loss_record, mean_valid_loss_record\n",
    "\n",
    "        return mean_train_loss_record, mean_valid_loss_record\n",
    "    \n",
    "    def tester(self, test_loader, config):\n",
    "        os.chdir(config[\"ML_path_model\"])\n",
    "        best_model = torch.load(config[\"ML_fname_model\"])\n",
    "        predict = np.array([]).reshape(-1, )\n",
    "        truth = np.array([]).reshape(-1, )\n",
    "        for i, (x, y) in enumerate(test_loader):\n",
    "            x = x.to(self.device)\n",
    "            y = y.to(self.device)\n",
    "            if (i==0):\n",
    "                predict = np.reshape(predict, (-1, x.size()[-1]))\n",
    "                truth = np.reshape(truth, (-1, x.size()[-1]))\n",
    "            with torch.no_grad():\n",
    "                pred = best_model(x)\n",
    "                predict = np.concatenate((predict, pred.detach().cpu().numpy()[:,-1,:]), axis = 0)\n",
    "                truth = np.concatenate((truth, y.detach().cpu().numpy()[:,-1,:]), axis = 0)\n",
    "        return predict, truth\n",
    "class pytorch_GRU_FC(nn.Module):\n",
    "    def __init__(self, input_size, hidden_size, output_size, num_layers):\n",
    "        super(pytorch_GRU_FC, self).__init__()\n",
    "        # Parameter\n",
    "        self.input_length = input_size\n",
    "        self.num_layers = num_layers\n",
    "        self.hidden_dim = hidden_size\n",
    "        # Structure\n",
    "        self.GRU = nn.GRU(input_size, hidden_size, num_layers, batch_first=True)\n",
    "        self.FC = nn.Linear(hidden_size, output_size)\n",
    "        # Weight init\n",
    "        self.GRU.weight_ih_l0.data.fill_(0)\n",
    "        self.GRU.weight_hh_l0.data.fill_(0)\n",
    "        self.FC.weight.data.fill_(0)\n",
    "    def forward(self, x):\n",
    "        # Hidden init\n",
    "        h0 = torch.zeros(self.num_layers, x.size(0), self.hidden_dim, dtype = torch.double).requires_grad_()\n",
    "        # GRU pass\n",
    "        out, (hn) = self.GRU(x, (h0.detach()))\n",
    "        # FC pass\n",
    "        out = self.FC(out[:, -1, :])\n",
    "        # Output\n",
    "        out = torch.reshape(out, (out.size()[0], 1, out.size()[-1]))\n",
    "        return out"
   ]
  },
  {
   "cell_type": "code",
   "execution_count": null,
   "id": "a9e03831-33f6-4557-92a0-c567e76c9f83",
   "metadata": {},
   "outputs": [],
   "source": [
    "# Init\n",
    "GRU = GatedRecurrentUnit(input_size = train_set.shape[-1], \n",
    "                         hidden_size = 160, \n",
    "                         output_size = train_set.shape[-1], \n",
    "                         num_layers = 1, \n",
    "                         device = device)\n",
    "# Train\n",
    "train_loss_record, valid_loss_record = GRU.trainer(train_loader, valid_loader, config)\n",
    "# Test\n",
    "GRU_predict, GRU_truth = GRU.tester(test_loader, config)"
   ]
  },
  {
   "cell_type": "markdown",
   "id": "6b689ed2-eabd-4a90-a407-476c4705da7c",
   "metadata": {
    "jp-MarkdownHeadingCollapsed": true,
    "tags": []
   },
   "source": [
    "# VAR"
   ]
  },
  {
   "cell_type": "code",
   "execution_count": null,
   "id": "6ce6d6a9-6439-4cc0-b8cb-436c6e2de95e",
   "metadata": {},
   "outputs": [],
   "source": [
    "class VarAutoReg(object):\n",
    "    def trainer(self, train, lags, trend):\n",
    "        self.AR_p = lags\n",
    "        self.trend = trend\n",
    "        self.train_data = train\n",
    "        self.VAR = var_model(self.train_data)\n",
    "        self.VARResult = self.VAR.fit(maxlags = self.AR_p, trend = self.trend)\n",
    "        return self.VARResult\n",
    "    def tester(self, test, config):\n",
    "        self.test_data = test\n",
    "        predict = np.array([]).reshape(-1, self.test_data.shape[-1])\n",
    "        truth = np.array([]).reshape(-1, self.test_data.shape[-1])\n",
    "        for i in range(len(self.test_data)-config[\"ML_hyperparam_lookback\"]):\n",
    "            pred = self.VARResult.forecast(self.test_data[i].reshape(1,-1), 1)\n",
    "            predict = np.concatenate((predict, pred), axis = 0)\n",
    "            truth = np.concatenate((truth, self.test_data[i+1,:].reshape(1,-1)), axis = 0)\n",
    "        return predict, truth"
   ]
  },
  {
   "cell_type": "code",
   "execution_count": null,
   "id": "87793d06-72e6-412e-80c4-8b65b0fe6a02",
   "metadata": {},
   "outputs": [],
   "source": [
    "# Init\n",
    "VAR = VarAutoReg()\n",
    "# Train\n",
    "VAR.trainer(train_set, lags = config[\"ML_hyperparam_lookback\"], trend = \"n\")\n",
    "# Test\n",
    "VAR_predict, VAR_truth = VAR.tester(test_set, config)\n",
    "print(VAR_predict.shape)\n",
    "print(VAR_truth.shape)"
   ]
  },
  {
   "cell_type": "markdown",
   "id": "a1ab915b-03e1-4ad2-b7c5-5232ab4dcdc7",
   "metadata": {
    "tags": []
   },
   "source": [
    "# ESN"
   ]
  },
  {
   "cell_type": "code",
   "execution_count": 83,
   "id": "ef370a67-182e-4690-920b-f289b72235c7",
   "metadata": {},
   "outputs": [],
   "source": [
    "class Reservoir(object):\n",
    "    def __init__(self, resSize = 500, spectral_radius = 1.25, leaky = 0.3, reg_coefficient = 1e-8, feature_num = None):\n",
    "        # Parameter\n",
    "        self.resSize = resSize\n",
    "        self.rho = spectral_radius\n",
    "        self.alpha = leaky\n",
    "        self.reg_coef = reg_coefficient\n",
    "        self.inSize = feature_num\n",
    "        self.outSize = feature_num\n",
    "        # Weight matrix\n",
    "        np.random.seed(54088)\n",
    "        self.Win = np.random.rand(self.resSize, 1+self.inSize)-0.5\n",
    "        np.random.seed(54088)\n",
    "        self.W_0 = np.random.rand(self.resSize, self.resSize)-0.5\n",
    "        self.rhoW = np.max(np.abs(np.linalg.eig(self.W_0)[0]))\n",
    "        self.W = self.W_0 * self.rho / self.rhoW\n",
    "        # Optim\n",
    "        self.Ridge = None\n",
    "        return None\n",
    "    def Dataset(self, train, test):\n",
    "        self.dataset = np.concatenate((train, test), axis = 0)\n",
    "        self.trainLen = train.shape[0]\n",
    "        self.testLen = test.shape[0]\n",
    "        self.initLen = int(self.trainLen/10)\n",
    "        return None\n",
    "    def trainer(self):\n",
    "        prev_state = []\n",
    "        current_state = np.zeros([self.resSize, 1])\n",
    "        for t in range(self.trainLen):\n",
    "            obs = self.dataset[t,:]\n",
    "            obs = np.reshape(obs, [self.inSize,1])\n",
    "            # Update state\n",
    "            current_state = (1-self.alpha)*current_state + self.alpha*np.tanh( np.dot(self.Win, np.vstack((1, obs))) + np.dot(self.W, current_state) )\n",
    "            prev_state.append(np.vstack([1, obs, current_state]))\n",
    "        # Discard spin-up\n",
    "        prev_state = prev_state[self.initLen:]\n",
    "        prev_state = np.array(prev_state).reshape(-1, 1+self.inSize+self.resSize)\n",
    "\n",
    "        # Ground true state\n",
    "        truth_state = self.dataset[self.initLen+1:self.trainLen+1,:]\n",
    "\n",
    "        # Least Square Error (similar to loss function)\n",
    "        self.Ridge = Ridge(alpha = self.reg_coef)\n",
    "        self.Ridge.fit(prev_state, truth_state)\n",
    "        return current_state\n",
    "    def tester(self, current_state, config, Mode = 0):\n",
    "        predict = np.array([]).reshape(-1, self.outSize)\n",
    "        obs = self.dataset[self.trainLen,:]\n",
    "        obs = np.reshape(obs, [self.inSize,1])\n",
    "        unit = np.ones((1,1))\n",
    "        \n",
    "        for t in range(config[\"ML_hyperparam_lookback\"]):\n",
    "            current_state = (1-self.alpha)*current_state + self.alpha*np.tanh(np.dot(self.Win, np.vstack((unit, obs))) + np.dot(self.W, current_state))\n",
    "            y = self.Ridge.predict(np.vstack((1, obs, current_state)).T)\n",
    "            predict = np.concatenate((predict, y), axis = 0)\n",
    "            obs = self.dataset[self.trainLen+t+1]\n",
    "            obs = np.reshape(obs, [self.inSize,1])\n",
    "            \n",
    "        for t in range(config[\"ML_hyperparam_lookback\"], self.testLen-1):\n",
    "            current_state = (1-self.alpha)*current_state + self.alpha*np.tanh(np.dot(self.Win, np.vstack((unit, obs))) + np.dot(self.W, current_state))\n",
    "            y = self.Ridge.predict(np.vstack((1, obs, current_state)).T)\n",
    "            predict = np.concatenate((predict, y), axis = 0)\n",
    "            if (Mode==0):\n",
    "                # Iterative step\n",
    "                obs = self.dataset[self.trainLen+t+1]\n",
    "                obs = np.reshape(obs, [self.inSize,1])\n",
    "            elif (Mode==1):\n",
    "                obs = y\n",
    "                obs = np.reshape(obs, [self.inSize,1])\n",
    "            else:\n",
    "                print(\"Mode error.\")\n",
    "                break\n",
    "        \n",
    "        predict = np.array(predict).reshape(-1, self.outSize)[config[\"ML_hyperparam_lookback\"]-1:]\n",
    "        truth = self.dataset[self.trainLen+1:,:][config[\"ML_hyperparam_lookback\"]-1:]\n",
    "        \n",
    "        return predict, truth\n",
    "        "
   ]
  },
  {
   "cell_type": "code",
   "execution_count": 84,
   "id": "59b5acf7-33e2-48a6-b690-ad18a4e914e3",
   "metadata": {},
   "outputs": [
    {
     "name": "stdout",
     "output_type": "stream",
     "text": [
      "(2941, 38)\n",
      "(2941, 38)\n"
     ]
    }
   ],
   "source": [
    "# Init\n",
    "ESN = Reservoir(resSize = 500,\n",
    "                spectral_radius = 0.6,\n",
    "                leaky = 0.95,\n",
    "                reg_coefficient = 10,\n",
    "                feature_num = config[\"Var_Feature_num_SVD\"] + config[\"Flag_timeline_feature\"])\n",
    "# Dataset\n",
    "ESN.Dataset(np.concatenate((train_set, valid_set), axis = 0), test_set)\n",
    "# Train\n",
    "state_vect = ESN.trainer()\n",
    "# Test\n",
    "ESN_predict, ESN_truth = ESN.tester(state_vect, config, Mode = 0)\n",
    "print(ESN_predict.shape)\n",
    "print(ESN_truth.shape)"
   ]
  },
  {
   "cell_type": "markdown",
   "id": "6ac926c0-d723-47cf-8ccb-a8884275e2b3",
   "metadata": {
    "tags": []
   },
   "source": [
    "# Compare"
   ]
  },
  {
   "cell_type": "code",
   "execution_count": null,
   "id": "f2adc6a7-71cd-42fe-94e9-4aa6930e779c",
   "metadata": {},
   "outputs": [],
   "source": [
    "MSE_GRU = np.mean(np.square(GRU_predict - GRU_truth))\n",
    "MSE_VAR = np.mean(np.square(VAR_predict - VAR_truth))\n",
    "MSE_ESN = np.mean(np.square(ESN_predict - ESN_truth))\n",
    "print(\"GRU: \", f\"{MSE_GRU:.6f}\")\n",
    "print(\"VAR: \", f\"{MSE_VAR:.6f}\")\n",
    "print(\"ESN: \", f\"{MSE_ESN:.6f}\")\n",
    "RMSE_GRU = np.sqrt(np.mean(np.square(GRU_predict - GRU_truth), axis = 0))\n",
    "RMSE_VAR = np.sqrt(np.mean(np.square(VAR_predict - VAR_truth), axis = 0))\n",
    "RMSE_ESN = np.sqrt(np.mean(np.square(ESN_predict - ESN_truth), axis = 0))\n",
    "plt.figure(figsize = (6, 4), dpi = 150)\n",
    "plt.plot(RMSE_GRU, label = \"GRU\")\n",
    "plt.plot(RMSE_VAR, label = \"VAR\")\n",
    "plt.plot(RMSE_ESN, label = \"ESN\")\n",
    "plt.legend()\n",
    "plt.show()"
   ]
  },
  {
   "cell_type": "code",
   "execution_count": 81,
   "id": "3a7b0620-7006-4ce1-ac0a-adc50348b27d",
   "metadata": {},
   "outputs": [],
   "source": [
    "mode = 0\n",
    "time_window = 14"
   ]
  },
  {
   "cell_type": "code",
   "execution_count": null,
   "id": "a998c1ca-52c4-4503-84b0-5748fd07f13a",
   "metadata": {},
   "outputs": [],
   "source": [
    "plt.figure()\n",
    "plt.plot(GRU_predict[:time_window,mode])\n",
    "plt.plot(GRU_truth[:time_window,mode])\n",
    "plt.show()"
   ]
  },
  {
   "cell_type": "code",
   "execution_count": 79,
   "id": "49e1b73c-8a62-42be-a542-08dab80778e4",
   "metadata": {},
   "outputs": [
    {
     "data": {
      "image/png": "[encoded data removed]",
      "text/plain": [
       "<Figure size 640x480 with 1 Axes>"
      ]
     },
     "metadata": {},
     "output_type": "display_data"
    }
   ],
   "source": [
    "plt.figure()\n",
    "plt.plot(VAR_predict[:time_window, mode])\n",
    "plt.plot(VAR_truth[:time_window, mode])\n",
    "plt.show()"
   ]
  },
  {
   "cell_type": "code",
   "execution_count": 82,
   "id": "85d87b8c-f625-402c-900f-c9059107032e",
   "metadata": {},
   "outputs": [
    {
     "data": {
      "image/png": "[encoded data removed]",
      "text/plain": [
       "<Figure size 640x480 with 1 Axes>"
      ]
     },
     "metadata": {},
     "output_type": "display_data"
    }
   ],
   "source": [
    "plt.figure()\n",
    "plt.plot(ESN_predict[:time_window, mode])\n",
    "plt.plot(ESN_truth[:time_window, mode])\n",
    "plt.show()"
   ]
  },
  {
   "cell_type": "code",
   "execution_count": null,
   "id": "2296c384-125a-41a2-bf26-4fca4189f118",
   "metadata": {},
   "outputs": [],
   "source": []
  }
 ],
 "metadata": {
  "kernelspec": {
   "display_name": "Pcore_env",
   "language": "python",
   "name": "pcore_env"
  },
  "language_info": {
   "codemirror_mode": {
    "name": "ipython",
    "version": 3
   },
   "file_extension": ".py",
   "mimetype": "text/x-python",
   "name": "python",
   "nbconvert_exporter": "python",
   "pygments_lexer": "ipython3",
   "version": "3.10.10"
  }
 },
 "nbformat": 4,
 "nbformat_minor": 5
}
