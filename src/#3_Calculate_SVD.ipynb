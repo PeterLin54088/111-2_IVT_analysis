{
 "cells": [
  {
   "cell_type": "markdown",
   "id": "322072e3-6e26-410c-adfc-bca09189e6a1",
   "metadata": {
    "id": "322072e3-6e26-410c-adfc-bca09189e6a1",
    "tags": []
   },
   "source": [
    "# Import"
   ]
  },
  {
   "cell_type": "code",
   "execution_count": 1,
   "id": "f678f266-2ddd-48a4-9a1a-4b044eba2ef3",
   "metadata": {
    "executionInfo": {
     "elapsed": 478,
     "status": "ok",
     "timestamp": 1679455935907,
     "user": {
      "displayName": "Kai-Chih Tseng",
      "userId": "05284180150168718276"
     },
     "user_tz": -480
    },
    "id": "f678f266-2ddd-48a4-9a1a-4b044eba2ef3"
   },
   "outputs": [],
   "source": [
    "# System\n",
    "import os\n",
    "import time\n",
    "import json\n",
    "\n",
    "# Below blocks should be executed before any modules that with computational cost\n",
    "# Processor Setting\n",
    "os.environ[\"OMP_NUM_THREADS\"] = \"4\" # export OMP_NUM_THREADS=4\n",
    "os.environ[\"OPENBLAS_NUM_THREADS\"] = \"4\" # export OPENBLAS_NUM_THREADS=4 \n",
    "os.environ[\"MKL_NUM_THREADS\"] = \"6\" # export MKL_NUM_THREADS=6\n",
    "os.environ[\"VECLIB_MAXIMUM_THREADS\"] = \"4\" # export VECLIB_MAXIMUM_THREADS=4\n",
    "os.environ[\"NUMEXPR_NUM_THREADS\"] = \"6\" # export NUMEXPR_NUM_THREADS=6\n",
    "\n",
    "# Data processing\n",
    "import numpy as np"
   ]
  },
  {
   "cell_type": "markdown",
   "id": "b7892ebe-ef6f-4cc0-b752-07c9d27e87f9",
   "metadata": {
    "id": "b7892ebe-ef6f-4cc0-b752-07c9d27e87f9",
    "tags": []
   },
   "source": [
    "# Config"
   ]
  },
  {
   "cell_type": "code",
   "execution_count": 2,
   "id": "d7f1128a-f358-4db5-be7d-590ff32a42dd",
   "metadata": {
    "colab": {
     "base_uri": "https://localhost:8080/",
     "height": 275
    },
    "executionInfo": {
     "elapsed": 681,
     "status": "error",
     "timestamp": 1679455998121,
     "user": {
      "displayName": "Kai-Chih Tseng",
      "userId": "05284180150168718276"
     },
     "user_tz": -480
    },
    "id": "d7f1128a-f358-4db5-be7d-590ff32a42dd",
    "outputId": "c6a91381-0cd3-4a1d-9b39-1cdf713cfa0f"
   },
   "outputs": [],
   "source": [
    "# Config path\n",
    "root = '/Volumes/Expansion/User_Backup/b08209033/111-2_IVT_analysis/'\n",
    "file = 'config.json'\n",
    "config_path = os.path.join(root, file)\n",
    "\n",
    "# Import config\n",
    "with open(config_path) as infile:\n",
    "    config = json.load(infile)\n",
    "    infile.close()\n",
    "\n",
    "# Update config\n",
    "    # IVT variable\n",
    "config.update({\"Flag_IVT_filtered\": True})\n",
    "config.update({\"Fname_IVT_svd\": \"IVT_SVD.npz\"})\n",
    "\n",
    "# Export config\n",
    "with open(config_path, 'w') as outfile:\n",
    "    json.dump(config, outfile, sort_keys=True)\n",
    "    outfile.close()"
   ]
  },
  {
   "cell_type": "markdown",
   "id": "945f8539-1b47-44e7-9367-16268d645f9d",
   "metadata": {},
   "source": [
    "# Read IVT"
   ]
  },
  {
   "cell_type": "code",
   "execution_count": 3,
   "id": "e3cd2719-1b08-4559-a167-e505b8346a24",
   "metadata": {},
   "outputs": [],
   "source": [
    "os.chdir(config[\"Path_IVT_calculation\"])\n",
    "with np.load(config[\"Fname_IVT\"]) as dataset:\n",
    "    IVT_unfiltered = dataset['IVT_unfiltered']\n",
    "    IVT_seasonal = dataset['IVT_seasonal']\n",
    "\n",
    "# Flag, filter seasonal cycle\n",
    "if (config[\"Flag_IVT_filtered\"]):\n",
    "    IVT = np.zeros((IVT_unfiltered.shape))\n",
    "    for idx in range(len(IVT)):\n",
    "        IVT[idx] = IVT_unfiltered[idx] - IVT_seasonal[idx]\n",
    "else:\n",
    "    IVT = IVT_unfiltered\n",
    "\n",
    "del IVT_unfiltered\n",
    "del IVT_seasonal"
   ]
  },
  {
   "cell_type": "markdown",
   "id": "9b48131b-cd36-465a-a662-8681a3722d7e",
   "metadata": {
    "id": "9b48131b-cd36-465a-a662-8681a3722d7e",
    "tags": []
   },
   "source": [
    "# Data processing (SVD)"
   ]
  },
  {
   "cell_type": "code",
   "execution_count": 4,
   "id": "4661ca08-754c-4bb5-b1f6-a064697eb0ef",
   "metadata": {},
   "outputs": [],
   "source": [
    "# Defined dims\n",
    "IVT_structure = config[\"Var_Data_structure_IVT\"]\n",
    "TOTAL_DIM = IVT_structure[0]\n",
    "TOTAL_YEAR = IVT_structure[1]\n",
    "TOTAL_DAY = IVT_structure[2]\n",
    "TOTAL_LAT = IVT_structure[3]\n",
    "TOTAL_LON = IVT_structure[4]"
   ]
  },
  {
   "cell_type": "code",
   "execution_count": 5,
   "id": "cd378cb6-9c5e-43dc-8883-ab6da1b6d6dc",
   "metadata": {
    "executionInfo": {
     "elapsed": 11,
     "status": "aborted",
     "timestamp": 1679455848255,
     "user": {
      "displayName": "Kai-Chih Tseng",
      "userId": "05284180150168718276"
     },
     "user_tz": -480
    },
    "id": "cd378cb6-9c5e-43dc-8883-ab6da1b6d6dc",
    "tags": []
   },
   "outputs": [
    {
     "name": "stdout",
     "output_type": "stream",
     "text": [
      "Takes 178.852 sec\n"
     ]
    }
   ],
   "source": [
    "count = time.time()\n",
    "\n",
    "# Reshape (Var, Time, Space)\n",
    "data = IVT.reshape(TOTAL_DIM, TOTAL_YEAR*TOTAL_DAY, TOTAL_LAT*TOTAL_LON)\n",
    "\n",
    "# Variable axis into space axis\n",
    "data = np.concatenate((data[0,:,:],data[1,:,:]), axis = -1)\n",
    "\n",
    "# Transpose to (Space, Time) structure\n",
    "data = data.transpose()\n",
    "\n",
    "# SVD\n",
    "u, s, vh = np.linalg.svd(data, full_matrices=False)\n",
    "\n",
    "print(f\"Takes {(time.time()-count):.3f} sec\")"
   ]
  },
  {
   "cell_type": "markdown",
   "id": "93f77d63-1639-451e-9b7f-b82386ae00df",
   "metadata": {
    "id": "93f77d63-1639-451e-9b7f-b82386ae00df",
    "tags": []
   },
   "source": [
    "# Variance (Explainability)"
   ]
  },
  {
   "cell_type": "code",
   "execution_count": 6,
   "id": "f680020f-32de-49e7-8388-c97a8de2b1a0",
   "metadata": {
    "executionInfo": {
     "elapsed": 11,
     "status": "aborted",
     "timestamp": 1679455848255,
     "user": {
      "displayName": "Kai-Chih Tseng",
      "userId": "05284180150168718276"
     },
     "user_tz": -480
    },
    "id": "f680020f-32de-49e7-8388-c97a8de2b1a0"
   },
   "outputs": [
    {
     "name": "stdout",
     "output_type": "stream",
     "text": [
      "First 38 components explain 90.15% variance.\n"
     ]
    }
   ],
   "source": [
    "# Defined threshold\n",
    "threshold = 0.9\n",
    "\n",
    "# Calculate explainability\n",
    "variance = np.square(s)\n",
    "total_var = np.sum(variance)\n",
    "ith_var = 0\n",
    "feature_num = None\n",
    "for i, var_i in enumerate(variance):\n",
    "    ith_var += var_i/total_var\n",
    "    if (ith_var >= threshold):\n",
    "        print(f\"First {i+1} components explain {ith_var*100:.2f}% variance.\")\n",
    "        feature_num = i+1\n",
    "        break\n",
    "\n",
    "# Save explainability and feature_num\n",
    "config.update({\"Var_Explainability_SVD\": threshold})\n",
    "config.update({\"Var_Feature_num_SVD\": int(feature_num)})\n",
    "with open(config_path, 'w') as outfile:\n",
    "    json.dump(config, outfile, sort_keys=True)\n",
    "    outfile.close()"
   ]
  },
  {
   "cell_type": "code",
   "execution_count": 7,
   "id": "42702f19-403a-433d-a6d1-bf2c8e6632ab",
   "metadata": {},
   "outputs": [],
   "source": [
    "os.chdir(config[\"Path_IVT_calculation\"])\n",
    "np.savez(config[\"Fname_IVT_svd\"], \n",
    "         space = u, \n",
    "         time = vh, \n",
    "         singular_value = s)"
   ]
  },
  {
   "cell_type": "markdown",
   "id": "ee79d625-d9f2-47d1-81ce-28f3e1987dec",
   "metadata": {
    "id": "ee79d625-d9f2-47d1-81ce-28f3e1987dec",
    "tags": []
   },
   "source": [
    "# Undetermined blocks"
   ]
  },
  {
   "cell_type": "markdown",
   "id": "541fdd01-3f0e-41d5-9d31-b71a3ed4f008",
   "metadata": {
    "id": "541fdd01-3f0e-41d5-9d31-b71a3ed4f008",
    "tags": []
   },
   "source": [
    "# Unused blocks"
   ]
  }
 ],
 "metadata": {
  "accelerator": "GPU",
  "colab": {
   "provenance": []
  },
  "gpuClass": "premium",
  "kernelspec": {
   "display_name": "Python 3 (ipykernel)",
   "language": "python",
   "name": "python3"
  },
  "language_info": {
   "codemirror_mode": {
    "name": "ipython",
    "version": 3
   },
   "file_extension": ".py",
   "mimetype": "text/x-python",
   "name": "python",
   "nbconvert_exporter": "python",
   "pygments_lexer": "ipython3",
   "version": "3.10.10"
  }
 },
 "nbformat": 4,
 "nbformat_minor": 5
}
