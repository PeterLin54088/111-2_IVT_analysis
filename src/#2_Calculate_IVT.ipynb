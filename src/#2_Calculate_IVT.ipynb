{
 "cells": [
  {
   "cell_type": "markdown",
   "id": "322072e3-6e26-410c-adfc-bca09189e6a1",
   "metadata": {
    "id": "322072e3-6e26-410c-adfc-bca09189e6a1",
    "tags": []
   },
   "source": [
    "# Import"
   ]
  },
  {
   "cell_type": "code",
   "execution_count": 1,
   "id": "f678f266-2ddd-48a4-9a1a-4b044eba2ef3",
   "metadata": {
    "executionInfo": {
     "elapsed": 478,
     "status": "ok",
     "timestamp": 1679455935907,
     "user": {
      "displayName": "Kai-Chih Tseng",
      "userId": "05284180150168718276"
     },
     "user_tz": -480
    },
    "id": "f678f266-2ddd-48a4-9a1a-4b044eba2ef3"
   },
   "outputs": [],
   "source": [
    "# System\n",
    "import os\n",
    "import time\n",
    "import json\n",
    "os.environ[\"OMP_NUM_THREADS\"] = \"4\" # export OMP_NUM_THREADS=4\n",
    "os.environ[\"OPENBLAS_NUM_THREADS\"] = \"4\" # export OPENBLAS_NUM_THREADS=4 \n",
    "os.environ[\"MKL_NUM_THREADS\"] = \"6\" # export MKL_NUM_THREADS=6\n",
    "os.environ[\"VECLIB_MAXIMUM_THREADS\"] = \"4\" # export VECLIB_MAXIMUM_THREADS=4\n",
    "os.environ[\"NUMEXPR_NUM_THREADS\"] = \"6\" # export NUMEXPR_NUM_THREADS=6\n",
    "\n",
    "# Data processing\n",
    "import numpy as np\n",
    "import netCDF4 as nc"
   ]
  },
  {
   "cell_type": "markdown",
   "id": "b7892ebe-ef6f-4cc0-b752-07c9d27e87f9",
   "metadata": {
    "id": "b7892ebe-ef6f-4cc0-b752-07c9d27e87f9",
    "tags": []
   },
   "source": [
    "# Config"
   ]
  },
  {
   "cell_type": "code",
   "execution_count": 2,
   "id": "d7f1128a-f358-4db5-be7d-590ff32a42dd",
   "metadata": {
    "colab": {
     "base_uri": "https://localhost:8080/",
     "height": 275
    },
    "executionInfo": {
     "elapsed": 681,
     "status": "error",
     "timestamp": 1679455998121,
     "user": {
      "displayName": "Kai-Chih Tseng",
      "userId": "05284180150168718276"
     },
     "user_tz": -480
    },
    "id": "d7f1128a-f358-4db5-be7d-590ff32a42dd",
    "outputId": "c6a91381-0cd3-4a1d-9b39-1cdf713cfa0f"
   },
   "outputs": [],
   "source": [
    "# Config path\n",
    "root = '/Volumes/Expansion/User_Backup/b08209033/111-2_IVT_analysis/'\n",
    "folder = '2023_0330'\n",
    "file = 'src/config.json'\n",
    "config_path = os.path.join(os.path.join(root, folder), file)\n",
    "\n",
    "# Import config\n",
    "with open(config_path) as infile:\n",
    "    config = json.load(infile)\n",
    "    infile.close()\n",
    "\n",
    "# Update config\n",
    "    # IVT variable\n",
    "config.update({\"IVTPath\": os.path.join(config[\"DataPath\"], \"IVT\")})\n",
    "config.update({\"IVT_fname\": \"IVT_raw.npz\"})\n",
    "#config.update({\"IVT_is_filtered\": True})\n",
    "\n",
    "# Export config\n",
    "with open(config_path, 'w') as outfile:\n",
    "    json.dump(config, outfile, sort_keys=True)\n",
    "    outfile.close()"
   ]
  },
  {
   "cell_type": "markdown",
   "id": "c9a0e42d-7457-4844-bc88-5e951967682f",
   "metadata": {
    "id": "c9a0e42d-7457-4844-bc88-5e951967682f",
    "tags": []
   },
   "source": [
    "# Self-defiend Objects"
   ]
  },
  {
   "cell_type": "markdown",
   "id": "e929b4aa-1b1a-4c6e-b68c-2470fb73c856",
   "metadata": {
    "id": "e929b4aa-1b1a-4c6e-b68c-2470fb73c856",
    "tags": []
   },
   "source": [
    "## IVT"
   ]
  },
  {
   "cell_type": "code",
   "execution_count": 3,
   "id": "284fb2c9-2973-4419-9133-c4d4236de8c3",
   "metadata": {
    "executionInfo": {
     "elapsed": 10,
     "status": "aborted",
     "timestamp": 1679455848253,
     "user": {
      "displayName": "Kai-Chih Tseng",
      "userId": "05284180150168718276"
     },
     "user_tz": -480
    },
    "id": "284fb2c9-2973-4419-9133-c4d4236de8c3"
   },
   "outputs": [],
   "source": [
    "# Input .nc object\n",
    "# Return \n",
    "    # Lat\n",
    "    # Lon\n",
    "    # Original IVT [year, day, lat, lon]\n",
    "    # seasonal IVT [day, lat, lon] (optional)\n",
    "def getIVT(rootgrp, seasonal_cycle = False):\n",
    "    # Determine array shape\n",
    "        # Find region index\n",
    "    lon = rootgrp['lon'][:]\n",
    "    lat = rootgrp['lat'][:]\n",
    "        # Find level index\n",
    "    level = rootgrp['plev'][:]\n",
    "        # Calculate thickness\n",
    "    thickness = (level[:-1] - level[1:])\n",
    "    \n",
    "    # Original file\n",
    "        # Read variables\n",
    "    u = rootgrp['u'][:,:,:,:].reshape(-1, 365, level.shape[0], lat.shape[0], lon.shape[0])\n",
    "    v = rootgrp['v'][:,:,:,:].reshape(-1, 365, level.shape[0], lat.shape[0], lon.shape[0])\n",
    "    q = rootgrp['q'][:,:,:,:].reshape(-1, 365, level.shape[0], lat.shape[0], lon.shape[0])\n",
    "        # Calculate IVT\n",
    "    interp_u = (u[:,:,1:,:,:] + u[:,:,:-1,:,:])/2\n",
    "    interp_v = (v[:,:,1:,:,:] + v[:,:,:-1,:,:])/2\n",
    "    interp_q = (q[:,:,1:,:,:] + q[:,:,:-1,:,:])/2\n",
    "        # Broadcast \n",
    "    broadcast_thickness = thickness[np.newaxis, np.newaxis, :, np.newaxis, np.newaxis]      \n",
    "        # Integrate over levels\n",
    "    IVT_x = np.sum((interp_u * interp_q * broadcast_thickness)/9.81, axis = 2)\n",
    "    IVT_y = np.sum((interp_v * interp_q * broadcast_thickness)/9.81, axis = 2)\n",
    "    \n",
    "    # Trend file\n",
    "    if (seasonal_cycle != False):\n",
    "            # Read variables\n",
    "        u = seasonal_cycle['u'][:,:,:,:]\n",
    "        v = seasonal_cycle['v'][:,:,:,:]\n",
    "        q = seasonal_cycle['q'][:,:,:,:]\n",
    "            # Calculate IVT\n",
    "        interp_u = (u[:,1:,:,:] + u[:,:-1,:,:])/2\n",
    "        interp_v = (v[:,1:,:,:] + v[:,:-1,:,:])/2\n",
    "        interp_q = (q[:,1:,:,:] + q[:,:-1,:,:])/2\n",
    "            # Broadcast \n",
    "        broadcast_thickness = thickness[np.newaxis, :, np.newaxis, np.newaxis]\n",
    "            # Integrate over levels\n",
    "        IVT_x_trend = np.sum((interp_u * interp_q * broadcast_thickness)/9.81, axis = 1)\n",
    "        IVT_y_trend = np.sum((interp_v * interp_q * broadcast_thickness)/9.81, axis = 1)\n",
    "        return lat, lon, np.array((IVT_x, IVT_y)), np.array((IVT_x_trend, IVT_y_trend))\n",
    "    return lat, lon, np.array((IVT_x, IVT_y))"
   ]
  },
  {
   "cell_type": "markdown",
   "id": "51110786-0f14-480a-b0b9-010e8c364674",
   "metadata": {
    "id": "51110786-0f14-480a-b0b9-010e8c364674",
    "tags": []
   },
   "source": [
    "# Data preprocessing"
   ]
  },
  {
   "cell_type": "code",
   "execution_count": 4,
   "id": "8f7b74b0-cbe5-4182-8913-660dcf77f629",
   "metadata": {
    "executionInfo": {
     "elapsed": 10,
     "status": "aborted",
     "timestamp": 1679455848254,
     "user": {
      "displayName": "Kai-Chih Tseng",
      "userId": "05284180150168718276"
     },
     "user_tz": -480
    },
    "id": "8f7b74b0-cbe5-4182-8913-660dcf77f629",
    "tags": []
   },
   "outputs": [
    {
     "name": "stdout",
     "output_type": "stream",
     "text": [
      "Takes 67.383 sec\n"
     ]
    }
   ],
   "source": [
    "# Process\n",
    "count = time.time()\n",
    "os.chdir(config[\"DataPath\"])\n",
    "rootgrp = nc.Dataset(\"dataset.nc\")\n",
    "trend = nc.Dataset(\"seasonal_cycle.nc\")\n",
    "lat, lon, IVT, IVT_trend = getIVT(rootgrp, trend)\n",
    "rootgrp.close()\n",
    "trend.close()\n",
    "print(f\"Takes {(time.time()-count):.3f} sec\")"
   ]
  },
  {
   "cell_type": "code",
   "execution_count": 5,
   "id": "4ac22d61-962a-4ed1-835f-31f979e96fce",
   "metadata": {},
   "outputs": [],
   "source": [
    "os.chdir(config[\"IVTPath\"])\n",
    "np.savez(config[\"IVT_fname\"], IVT_original = IVT, IVT_seasonal = IVT_trend)"
   ]
  },
  {
   "cell_type": "markdown",
   "id": "ee79d625-d9f2-47d1-81ce-28f3e1987dec",
   "metadata": {
    "id": "ee79d625-d9f2-47d1-81ce-28f3e1987dec",
    "tags": []
   },
   "source": [
    "# Undetermined blocks"
   ]
  },
  {
   "cell_type": "markdown",
   "id": "541fdd01-3f0e-41d5-9d31-b71a3ed4f008",
   "metadata": {
    "id": "541fdd01-3f0e-41d5-9d31-b71a3ed4f008",
    "tags": []
   },
   "source": [
    "# Unused blocks"
   ]
  }
 ],
 "metadata": {
  "accelerator": "GPU",
  "colab": {
   "provenance": []
  },
  "gpuClass": "premium",
  "kernelspec": {
   "display_name": "py39",
   "language": "python",
   "name": "py39"
  },
  "language_info": {
   "codemirror_mode": {
    "name": "ipython",
    "version": 3
   },
   "file_extension": ".py",
   "mimetype": "text/x-python",
   "name": "python",
   "nbconvert_exporter": "python",
   "pygments_lexer": "ipython3",
   "version": "3.10.10"
  }
 },
 "nbformat": 4,
 "nbformat_minor": 5
}
