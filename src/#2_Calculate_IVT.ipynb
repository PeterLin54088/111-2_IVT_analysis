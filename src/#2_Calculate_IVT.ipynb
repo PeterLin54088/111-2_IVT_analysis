{
 "cells": [
  {
   "cell_type": "markdown",
   "id": "322072e3-6e26-410c-adfc-bca09189e6a1",
   "metadata": {
    "id": "322072e3-6e26-410c-adfc-bca09189e6a1",
    "jp-MarkdownHeadingCollapsed": true,
    "tags": []
   },
   "source": [
    "# Import"
   ]
  },
  {
   "cell_type": "code",
   "execution_count": 1,
   "id": "f678f266-2ddd-48a4-9a1a-4b044eba2ef3",
   "metadata": {
    "executionInfo": {
     "elapsed": 478,
     "status": "ok",
     "timestamp": 1679455935907,
     "user": {
      "displayName": "Kai-Chih Tseng",
      "userId": "05284180150168718276"
     },
     "user_tz": -480
    },
    "id": "f678f266-2ddd-48a4-9a1a-4b044eba2ef3"
   },
   "outputs": [],
   "source": [
    "# System\n",
    "import os\n",
    "import time\n",
    "import json\n",
    "\n",
    "# Below blocks should be executed before any modules that with computational cost\n",
    "# Processor Setting\n",
    "os.environ[\"OMP_NUM_THREADS\"] = \"4\" # export OMP_NUM_THREADS=4\n",
    "os.environ[\"OPENBLAS_NUM_THREADS\"] = \"4\" # export OPENBLAS_NUM_THREADS=4 \n",
    "os.environ[\"MKL_NUM_THREADS\"] = \"6\" # export MKL_NUM_THREADS=6\n",
    "os.environ[\"VECLIB_MAXIMUM_THREADS\"] = \"4\" # export VECLIB_MAXIMUM_THREADS=4\n",
    "os.environ[\"NUMEXPR_NUM_THREADS\"] = \"6\" # export NUMEXPR_NUM_THREADS=6\n",
    "\n",
    "# Data processing\n",
    "import numpy as np\n",
    "import netCDF4 as nc"
   ]
  },
  {
   "cell_type": "markdown",
   "id": "b7892ebe-ef6f-4cc0-b752-07c9d27e87f9",
   "metadata": {
    "id": "b7892ebe-ef6f-4cc0-b752-07c9d27e87f9",
    "jp-MarkdownHeadingCollapsed": true,
    "tags": []
   },
   "source": [
    "# Config"
   ]
  },
  {
   "cell_type": "code",
   "execution_count": 2,
   "id": "d7f1128a-f358-4db5-be7d-590ff32a42dd",
   "metadata": {
    "colab": {
     "base_uri": "https://localhost:8080/",
     "height": 275
    },
    "executionInfo": {
     "elapsed": 681,
     "status": "error",
     "timestamp": 1679455998121,
     "user": {
      "displayName": "Kai-Chih Tseng",
      "userId": "05284180150168718276"
     },
     "user_tz": -480
    },
    "id": "d7f1128a-f358-4db5-be7d-590ff32a42dd",
    "outputId": "c6a91381-0cd3-4a1d-9b39-1cdf713cfa0f"
   },
   "outputs": [],
   "source": [
    "# Config path\n",
    "root = '/Volumes/Expansion/User_Backup/b08209033/111-2_IVT_analysis/'\n",
    "file = 'config.json'\n",
    "config_path = os.path.join(root, file)\n",
    "\n",
    "# Import config\n",
    "with open(config_path) as infile:\n",
    "    config = json.load(infile)\n",
    "    infile.close()\n",
    "\n",
    "# Update config\n",
    "    # IVT variable\n",
    "config.update({\"Path_IVT_calculation\": os.path.join(config[\"Path_data\"], \"IVT\")})\n",
    "config.update({\"Fname_RAW_IVT_original\": \"dataset.nc\"})\n",
    "config.update({\"Fname_RAW_IVT_seasonal\": \"seasonal_cycle.nc\"})\n",
    "config.update({\"Fname_IVT\": \"IVT_raw.npz\"})\n",
    "\n",
    "# Export config\n",
    "with open(config_path, 'w') as outfile:\n",
    "    json.dump(config, outfile, sort_keys=True)\n",
    "    outfile.close()"
   ]
  },
  {
   "cell_type": "markdown",
   "id": "51110786-0f14-480a-b0b9-010e8c364674",
   "metadata": {
    "id": "51110786-0f14-480a-b0b9-010e8c364674",
    "jp-MarkdownHeadingCollapsed": true,
    "tags": []
   },
   "source": [
    "# IVT"
   ]
  },
  {
   "cell_type": "code",
   "execution_count": 3,
   "id": "897f9c20-7055-452d-b2bc-7b54f720f0ee",
   "metadata": {},
   "outputs": [],
   "source": [
    "def getIVT(original, seasonal = None):\n",
    "    \"\"\"\n",
    "    Description:\n",
    "        Calculate IVT from .nc file\n",
    "    Input:\n",
    "        Require:\n",
    "            filename, .nc object\n",
    "        Optional:\n",
    "            filename, .nc object\n",
    "    Output:\n",
    "        Require:\n",
    "            lat\n",
    "            lon\n",
    "            Original IVT [year, day, lat, lon]\n",
    "        Optional:\n",
    "            Seasonal IVT [day, lat, lon]\n",
    "    \"\"\"\n",
    "    # Original IVT\n",
    "    with nc.Dataset(original) as dataset:\n",
    "        # Variable dimension\n",
    "        lon       = dataset['lon'][:]\n",
    "        lat       = dataset['lat'][:]\n",
    "        level     = dataset['plev'][:]\n",
    "        thickness = (level[:-1] - level[1:])[np.newaxis, np.newaxis, :, np.newaxis, np.newaxis]\n",
    "        # Variable\n",
    "        u = dataset['u'][:,:,:,:].reshape(-1, 365, level.shape[0], lat.shape[0], lon.shape[0])\n",
    "        v = dataset['v'][:,:,:,:].reshape(-1, 365, level.shape[0], lat.shape[0], lon.shape[0])\n",
    "        q = dataset['q'][:,:,:,:].reshape(-1, 365, level.shape[0], lat.shape[0], lon.shape[0])\n",
    "        # Calculate\n",
    "    u = (u[:,:,1:,:,:] + u[:,:,:-1,:,:])/2\n",
    "    v = (v[:,:,1:,:,:] + v[:,:,:-1,:,:])/2\n",
    "    q = (q[:,:,1:,:,:] + q[:,:,:-1,:,:])/2 \n",
    "    \n",
    "    IVT_x_original = np.sum((u * q * thickness)/9.81, axis = 2)\n",
    "    IVT_y_original = np.sum((v * q * thickness)/9.81, axis = 2)\n",
    "    IVT_original = np.array([IVT_x_original, IVT_y_original])\n",
    "    \n",
    "    # Seasonal IVT\n",
    "    if (seasonal != None):\n",
    "        with nc.Dataset(seasonal) as dataset:\n",
    "        # Variable dimension\n",
    "            lon       = dataset['lon'][:]\n",
    "            lat       = dataset['lat'][:]\n",
    "            level     = dataset['plev'][:]\n",
    "            thickness = (level[:-1] - level[1:])[np.newaxis, :, np.newaxis, np.newaxis]\n",
    "        # Variable\n",
    "            u = dataset['u'][:,:,:,:]\n",
    "            v = dataset['v'][:,:,:,:]\n",
    "            q = dataset['q'][:,:,:,:]\n",
    "        # Calculate\n",
    "        u = (u[:,1:,:,:] + u[:,:-1,:,:])/2\n",
    "        v = (v[:,1:,:,:] + v[:,:-1,:,:])/2\n",
    "        q = (q[:,1:,:,:] + q[:,:-1,:,:])/2\n",
    "        \n",
    "        IVT_x_seasonal = np.sum((u * q * thickness)/9.81, axis = 1)\n",
    "        IVT_y_seasonal = np.sum((v * q * thickness)/9.81, axis = 1)\n",
    "        IVT_seasonal = np.array([IVT_x_seasonal, IVT_y_seasonal])\n",
    "        \n",
    "        return lat, lon, IVT_original, IVT_seasonal\n",
    "    \n",
    "    return lat, lon, IVT_original"
   ]
  },
  {
   "cell_type": "code",
   "execution_count": 5,
   "id": "8f7b74b0-cbe5-4182-8913-660dcf77f629",
   "metadata": {
    "executionInfo": {
     "elapsed": 10,
     "status": "aborted",
     "timestamp": 1679455848254,
     "user": {
      "displayName": "Kai-Chih Tseng",
      "userId": "05284180150168718276"
     },
     "user_tz": -480
    },
    "id": "8f7b74b0-cbe5-4182-8913-660dcf77f629",
    "tags": []
   },
   "outputs": [
    {
     "name": "stdout",
     "output_type": "stream",
     "text": [
      "Takes 71.845 sec\n"
     ]
    }
   ],
   "source": [
    "# Calculate IVT\n",
    "count = time.time()\n",
    "os.chdir(config[\"Path_data\"])\n",
    "original = \"dataset.nc\"\n",
    "seasonal = \"seasonal_cycle.nc\"\n",
    "lat, lon, IVT_original, IVT_seasonal = getIVT(original, seasonal)\n",
    "print(f\"Takes {(time.time()-count):.3f} sec\")"
   ]
  },
  {
   "cell_type": "code",
   "execution_count": 6,
   "id": "a5aae981-bbca-4f31-8708-1c8785819229",
   "metadata": {},
   "outputs": [
    {
     "name": "stdout",
     "output_type": "stream",
     "text": [
      "(2, 43, 365, 60, 72)\n"
     ]
    }
   ],
   "source": [
    "# Save IVT shape\n",
    "print(IVT_original.shape)\n",
    "config.update({\"Var_Data_structure_IVT\": IVT_original.shape})\n",
    "with open(config_path, 'w') as outfile:\n",
    "    json.dump(config, outfile, sort_keys=True)\n",
    "    outfile.close()"
   ]
  },
  {
   "cell_type": "code",
   "execution_count": 7,
   "id": "4ac22d61-962a-4ed1-835f-31f979e96fce",
   "metadata": {},
   "outputs": [],
   "source": [
    "# Save IVT\n",
    "os.chdir(config[\"Path_IVT_calculation\"])\n",
    "np.savez(config[\"Fname_IVT\"], IVT_original = IVT_original, IVT_seasonal = IVT_seasonal)"
   ]
  }
 ],
 "metadata": {
  "accelerator": "GPU",
  "colab": {
   "provenance": []
  },
  "gpuClass": "premium",
  "kernelspec": {
   "display_name": "Pcore_env",
   "language": "python",
   "name": "pcore_env"
  },
  "language_info": {
   "codemirror_mode": {
    "name": "ipython",
    "version": 3
   },
   "file_extension": ".py",
   "mimetype": "text/x-python",
   "name": "python",
   "nbconvert_exporter": "python",
   "pygments_lexer": "ipython3",
   "version": "3.10.10"
  }
 },
 "nbformat": 4,
 "nbformat_minor": 5
}
