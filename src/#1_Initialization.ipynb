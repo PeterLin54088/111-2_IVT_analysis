{
 "cells": [
  {
   "cell_type": "markdown",
   "id": "ebe44014-72fa-479d-b8ee-5d0f91dbd560",
   "metadata": {},
   "source": [
    "# Import"
   ]
  },
  {
   "cell_type": "code",
   "execution_count": 1,
   "id": "a801818f-1d69-40d4-bc21-f3436fe19ec6",
   "metadata": {},
   "outputs": [],
   "source": [
    "# System\n",
    "import os\n",
    "import time\n",
    "import json"
   ]
  },
  {
   "cell_type": "markdown",
   "id": "80ad96b9-7f3b-43d0-b982-c628c54101f8",
   "metadata": {},
   "source": [
    "# Initial Config"
   ]
  },
  {
   "cell_type": "code",
   "execution_count": 2,
   "id": "fc3c6c2a-5762-4914-8d8c-1b842dab72c0",
   "metadata": {},
   "outputs": [
    {
     "name": "stdout",
     "output_type": "stream",
     "text": [
      "/Volumes/Expansion/User_Backup/b08209033/111-2_IVT_analysis/2023_0321/src\n"
     ]
    }
   ],
   "source": [
    "# Dict\n",
    "config = {}\n",
    "\n",
    "# Fname \n",
    "config.update({\"FolderName\": \"2023_0321\"})\n",
    "\n",
    "# Fpath\n",
    "config.update({\"FolderPath\": \"/Volumes/Expansion/User_Backup/b08209033/111-2_IVT_analysis\"})\n",
    "config.update({\"SubFolderPath\": os.path.join(config[\"FolderPath\"], config[\"FolderName\"])})\n",
    "config.update({\"DataPath\": os.path.join(config[\"FolderPath\"], \"data\")})\n",
    "config.update({\"SrcPath\": os.path.join(config[\"SubFolderPath\"], \"src\")})\n",
    "config.update({\"ImgPath\": os.path.join(config[\"SubFolderPath\"], \"img\")})\n",
    "\n",
    "\n",
    "# Output config\n",
    "os.chdir(config[\"SrcPath\"])\n",
    "with open('config.json', 'w') as outfile:\n",
    "    json.dump(config, outfile, sort_keys=True)\n",
    "print(config[\"SrcPath\"])"
   ]
  },
  {
   "cell_type": "markdown",
   "id": "85da2b2d-68f5-4fab-85d4-4ead9fb8e3d4",
   "metadata": {},
   "source": [
    "# Initial Folder"
   ]
  },
  {
   "cell_type": "code",
   "execution_count": 3,
   "id": "c0abf072-9d0e-41f9-8e5a-0886ca35dc9c",
   "metadata": {},
   "outputs": [],
   "source": [
    "def createFolder(path):\n",
    "    os.chdir(config[\"FolderPath\"])\n",
    "    if not os.path.exists(path):\n",
    "        os.makedirs(path)"
   ]
  },
  {
   "cell_type": "code",
   "execution_count": 4,
   "id": "2e04e150-696d-4943-9b96-052df69a41e8",
   "metadata": {},
   "outputs": [],
   "source": [
    "createFolder(config[\"FolderPath\"])\n",
    "createFolder(config[\"SrcPath\"])\n",
    "createFolder(config[\"ImgPath\"])\n",
    "createFolder(config[\"DataPath\"])"
   ]
  }
 ],
 "metadata": {
  "kernelspec": {
   "display_name": "Python [conda env:default_env] *",
   "language": "python",
   "name": "conda-env-default_env-py"
  },
  "language_info": {
   "codemirror_mode": {
    "name": "ipython",
    "version": 3
   },
   "file_extension": ".py",
   "mimetype": "text/x-python",
   "name": "python",
   "nbconvert_exporter": "python",
   "pygments_lexer": "ipython3",
   "version": "3.9.13"
  }
 },
 "nbformat": 4,
 "nbformat_minor": 5
}
