{
 "cells": [
  {
   "cell_type": "markdown",
   "id": "ebe44014-72fa-479d-b8ee-5d0f91dbd560",
   "metadata": {},
   "source": [
    "# Import"
   ]
  },
  {
   "cell_type": "code",
   "execution_count": 1,
   "id": "a801818f-1d69-40d4-bc21-f3436fe19ec6",
   "metadata": {},
   "outputs": [],
   "source": [
    "# System\n",
    "import os\n",
    "import json"
   ]
  },
  {
   "cell_type": "markdown",
   "id": "80ad96b9-7f3b-43d0-b982-c628c54101f8",
   "metadata": {},
   "source": [
    "# Config init"
   ]
  },
  {
   "cell_type": "code",
   "execution_count": 2,
   "id": "fc3c6c2a-5762-4914-8d8c-1b842dab72c0",
   "metadata": {},
   "outputs": [],
   "source": [
    "config = {}\n",
    "\n",
    "# Fpath\n",
    "config.update({\"Path_root\": \"/Volumes/Expansion/User_Backup/b08209033/111-2_IVT_analysis\"})\n",
    "config.update({\"Path_data\": os.path.join(config[\"Path_root\"], \"data\")})\n",
    "config.update({\"Path_src\": os.path.join(config[\"Path_root\"], \"src\")})\n",
    "config.update({\"Path_img\": os.path.join(config[\"Path_root\"], \"img\")})\n",
    "\n",
    "# Output config\n",
    "os.chdir(config[\"Path_root\"])\n",
    "with open('config.json', 'w') as outfile:\n",
    "    json.dump(config, outfile, sort_keys=True)"
   ]
  },
  {
   "cell_type": "markdown",
   "id": "85da2b2d-68f5-4fab-85d4-4ead9fb8e3d4",
   "metadata": {},
   "source": [
    "# Folder init"
   ]
  },
  {
   "cell_type": "code",
   "execution_count": 3,
   "id": "c0abf072-9d0e-41f9-8e5a-0886ca35dc9c",
   "metadata": {},
   "outputs": [],
   "source": [
    "def createFolder(path):\n",
    "    os.chdir(config[\"Path_root\"])\n",
    "    print(path)\n",
    "    if not os.path.exists(path):\n",
    "        os.makedirs(path)\n",
    "    else:\n",
    "        print(\"Above path existed\")\n",
    "    "
   ]
  },
  {
   "cell_type": "code",
   "execution_count": 4,
   "id": "2e04e150-696d-4943-9b96-052df69a41e8",
   "metadata": {},
   "outputs": [
    {
     "name": "stdout",
     "output_type": "stream",
     "text": [
      "/Volumes/Expansion/User_Backup/b08209033/111-2_IVT_analysis/data\n",
      "Above path existed\n",
      "/Volumes/Expansion/User_Backup/b08209033/111-2_IVT_analysis/img\n",
      "Above path existed\n",
      "/Volumes/Expansion/User_Backup/b08209033/111-2_IVT_analysis/src\n",
      "Above path existed\n"
     ]
    }
   ],
   "source": [
    "createFolder(config[\"Path_data\"])\n",
    "createFolder(config[\"Path_img\"])\n",
    "createFolder(config[\"Path_src\"])"
   ]
  }
 ],
 "metadata": {
  "kernelspec": {
   "display_name": "Pcore_env",
   "language": "python",
   "name": "pcore_env"
  },
  "language_info": {
   "codemirror_mode": {
    "name": "ipython",
    "version": 3
   },
   "file_extension": ".py",
   "mimetype": "text/x-python",
   "name": "python",
   "nbconvert_exporter": "python",
   "pygments_lexer": "ipython3",
   "version": "3.10.10"
  }
 },
 "nbformat": 4,
 "nbformat_minor": 5
}
