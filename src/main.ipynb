{
 "cells": [
  {
   "cell_type": "code",
   "execution_count": 1,
   "id": "3bc688eb-7858-4009-a4f8-087bcbebe525",
   "metadata": {},
   "outputs": [],
   "source": [
    "import os\n",
    "import time\n",
    "import numpy as np\n",
    "import netCDF4 as nc\n",
    "import matplotlib.pyplot as plt\n",
    "import cartopy.crs as ccrs\n",
    "from cartopy.mpl.ticker import LongitudeFormatter\n",
    "from cartopy.mpl.ticker import LatitudeFormatter\n"
   ]
  },
  {
   "cell_type": "code",
   "execution_count": 2,
   "id": "d7f1128a-f358-4db5-be7d-590ff32a42dd",
   "metadata": {},
   "outputs": [],
   "source": [
    "config = {}\n",
    "\n",
    "# Fname \n",
    "config.update({\"FolderName\": \"2023_0303\"})\n",
    "\n",
    "# Fpath\n",
    "config.update({\"FolderPath\": \"/Volumes/Expansion/User_Backup/b08209033/111-2_IVT_analysis\"})\n",
    "config.update({\"SubFolderPath\": os.path.join(config[\"FolderPath\"], config[\"FolderName\"])})\n",
    "config.update({\"DataPath\": \"/Volumes/Expansion/DATA/Reanalysis/ERA5\"})\n",
    "config.update({\"SrcPath\": os.path.join(config[\"SubFolderPath\"], \"src\")})\n",
    "config.update({\"ImgPath\": os.path.join(config[\"SubFolderPath\"], \"img\")})\n",
    "\n",
    "# Data slicing\n",
    "config.update({\"crop_region\": [[0, 40], [60, 120]]})\n",
    "config.update({\"crop_year\": [1979, 2021]})\n",
    "config.update({\"crop_month\": [5, 7]})\n",
    "\n",
    "\n",
    "os.chdir(config[\"FolderPath\"])"
   ]
  },
  {
   "cell_type": "code",
   "execution_count": 3,
   "id": "d8c865ae-7e80-4dcb-b78d-159ad3142d7f",
   "metadata": {},
   "outputs": [
    {
     "name": "stdout",
     "output_type": "stream",
     "text": [
      "FolderName: 2023_0303\n",
      "UserPath: /Volumes/Expansion/User_Backup/b08209033\n",
      "FolderPath: /Volumes/Expansion/User_Backup/b08209033/2023_0303\n",
      "DataPath: /Volumes/Expansion/DATA/Reanalysis/ERA5\n",
      "SrcPath: /Volumes/Expansion/User_Backup/b08209033/2023_0303/src\n",
      "ImgPath: /Volumes/Expansion/User_Backup/b08209033/2023_0303/img\n",
      "crop_region: [[0, 40], [60, 120]]\n",
      "crop_year: [1979, 2021]\n",
      "crop_month: [5, 7]\n"
     ]
    }
   ],
   "source": [
    "for key, value in config.items():\n",
    "    print(f\"{key}: {value}\")"
   ]
  },
  {
   "cell_type": "code",
   "execution_count": 4,
   "id": "32e1a8bc-b71c-48a6-b702-46e725c4880d",
   "metadata": {},
   "outputs": [
    {
     "name": "stdout",
     "output_type": "stream",
     "text": [
      "Folder already existed.\n",
      "Folder already existed.\n"
     ]
    }
   ],
   "source": [
    "def createFolder(path):\n",
    "    if not os.path.exists(path):\n",
    "        os.makedirs(path)\n",
    "    else:\n",
    "        print(\"Folder already existed.\")\n",
    "createFolder(config[\"SubFolderPath\"])\n",
    "createFolder(config[\"SrcPath\"])\n",
    "createFolder(config[\"ImgPath\"])"
   ]
  },
  {
   "cell_type": "code",
   "execution_count": 5,
   "id": "f43de580-501a-4914-81f9-5e10071a7ba4",
   "metadata": {},
   "outputs": [],
   "source": [
    "def MonthDayIndex(year, month):\n",
    "    idx = 0\n",
    "    if (year%4==0):\n",
    "        MD = [31, 29, 31, 30, 31, 30, 31, 31, 30, 31, 30, 31]\n",
    "        \n",
    "    else:\n",
    "        MD = [31, 28, 31, 30, 31, 30, 31, 31, 30, 31, 30, 31]\n",
    "    for i in range(month-1):\n",
    "        idx += MD[i]\n",
    "    return idx"
   ]
  },
  {
   "cell_type": "code",
   "execution_count": 6,
   "id": "284fb2c9-2973-4419-9133-c4d4236de8c3",
   "metadata": {},
   "outputs": [],
   "source": [
    "# return with dimensions (year, day, level, lat, lon)\n",
    "def IVT(year, current_month, region_box):\n",
    "    \n",
    "    # Determine array shape\n",
    "    os.chdir(os.path.join(config[\"DataPath\"], 'u'))\n",
    "    rootgrp = nc.Dataset('u1000_2010.nc')\n",
    "        # Find region index\n",
    "    lon = rootgrp['lon'][:]\n",
    "    lon_idx = np.arange(np.argmax(lon >= region_box[1][0]), np.argmax(lon >= region_box[1][1])+1)\n",
    "    lon = lon[lon_idx]\n",
    "    lat = rootgrp['lat'][:]\n",
    "    lat_idx = np.arange(np.argmax(lat >= region_box[0][0]), np.argmax(lat >= region_box[0][1])+1)\n",
    "    lat = lat[lat_idx]\n",
    "    rootgrp.close()\n",
    "        # Prescribe level index\n",
    "    level = np.array([1000, 925, 850, 700, 500, 250])\n",
    "        # Find time index\n",
    "        # Time may vary with leap year, so here is for array shape\n",
    "    time = np.arange(MonthDayIndex(year[0], current_month[0]), MonthDayIndex(year[0], current_month[1]))\n",
    "    \n",
    "    # Basic variables\n",
    "    u = np.array([]).reshape(0, len(time), len(level), len(lat), len(lon))\n",
    "    v = np.array([]).reshape(0, len(time), len(level), len(lat), len(lon))\n",
    "    q = np.array([]).reshape(0, len(time), len(level), len(lat), len(lon))\n",
    "    \n",
    "    # Read u wind\n",
    "        # Inner loop: Concatenate with new dimensions (level)\n",
    "        # Outer loop: Concatenate with new dimensions (year)\n",
    "    os.chdir(os.path.join(config[\"DataPath\"], 'u'))\n",
    "    for yr in year:\n",
    "        temp = np.array([]).reshape(len(time), 0, len(lat), len(lon))\n",
    "        time_idx = np.arange(MonthDayIndex(yr, current_month[0]), MonthDayIndex(yr, current_month[1]))\n",
    "        for lv in level:\n",
    "            # Read file and variables\n",
    "            fname = 'u'+ str(lv) + '_' + str(yr) + '.nc'\n",
    "            rootgrp = nc.Dataset(fname)\n",
    "            var = rootgrp['u'][time_idx,lat_idx,lon_idx]\n",
    "            var = var.reshape(len(time), 1, len(lat), len(lon))\n",
    "            # Concatenate\n",
    "            temp = np.concatenate((temp, var), axis=1)\n",
    "            rootgrp.close()\n",
    "        temp = temp.reshape(1, len(time), len(level), len(lat), len(lon))\n",
    "        u = np.concatenate((u, temp), axis=0)\n",
    "    \n",
    "    # Read v wind\n",
    "        # Inner loop: Concatenate with new dimensions (level)\n",
    "        # Outer loop: Concatenate with new dimensions (year)\n",
    "    os.chdir(os.path.join(config[\"DataPath\"], 'v'))\n",
    "    for yr in year:\n",
    "        temp = np.array([]).reshape(len(time), 0, len(lat), len(lon))\n",
    "        time_idx = np.arange(MonthDayIndex(yr, current_month[0]), MonthDayIndex(yr, current_month[1]))\n",
    "        for lv in level:\n",
    "            # Read file and variables\n",
    "            fname = 'v'+ str(lv) + '_' + str(yr) + '.nc'\n",
    "            rootgrp = nc.Dataset(fname)\n",
    "            var = rootgrp['v'][time_idx,lat_idx,lon_idx]\n",
    "            var = var.reshape(len(time), 1, len(lat), len(lon))\n",
    "            # Concatenate\n",
    "            temp = np.concatenate((temp, var), axis=1)\n",
    "            rootgrp.close()\n",
    "        temp = temp.reshape(1, len(time), len(level), len(lat), len(lon))\n",
    "        v = np.concatenate((v, temp), axis=0)\n",
    "    \n",
    "    # Read q wind\n",
    "        # Inner loop: Concatenate with new dimensions (level)\n",
    "        # Outer loop: Concatenate with new dimensions (year)\n",
    "    os.chdir(os.path.join(config[\"DataPath\"], 'q'))\n",
    "    for yr in year:\n",
    "        temp = np.array([]).reshape(len(time), 0, len(lat), len(lon))\n",
    "        time_idx = np.arange(MonthDayIndex(yr, current_month[0]), MonthDayIndex(yr, current_month[1]))\n",
    "        for lv in level:\n",
    "            # Read file and variables\n",
    "            fname = 'q'+ str(lv) + '_' + str(yr) + '.nc'\n",
    "            rootgrp = nc.Dataset(fname)\n",
    "            var = rootgrp['q'][time_idx,lat_idx,lon_idx]\n",
    "            var = var.reshape(len(time), 1, len(lat), len(lon))\n",
    "            # Concatenate\n",
    "            temp = np.concatenate((temp, var), axis=1)\n",
    "            rootgrp.close()\n",
    "        temp = temp.reshape(1, len(time), len(level), len(lat), len(lon))\n",
    "        q = np.concatenate((q, temp), axis=0)\n",
    "    \n",
    "    # Calculate IVT\n",
    "        # Calculate interpolated value by averaging\n",
    "    interp_u = (u[:,:,1:,:,:] + u[:,:,:-1,:,:])/2\n",
    "    interp_v = (v[:,:,1:,:,:] + v[:,:,:-1,:,:])/2\n",
    "    interp_q = (q[:,:,1:,:,:] + q[:,:,:-1,:,:])/2\n",
    "        # hPa to Pa unit conversion\n",
    "    thickness = (level[:-1] - level[1:])*100\n",
    "        # Broadcast \n",
    "    thickness = thickness[np.newaxis, np.newaxis, :, np.newaxis, np.newaxis]\n",
    "        # Integrate over levels\n",
    "    IVT_u = np.sum((interp_u * interp_q * thickness)/9.81, axis = 2)\n",
    "    IVT_v = np.sum((interp_v * interp_q * thickness)/9.81, axis = 2)\n",
    "    \n",
    "    return lat, lon, [IVT_u, IVT_v]"
   ]
  },
  {
   "cell_type": "code",
   "execution_count": 7,
   "id": "8f7b74b0-cbe5-4182-8913-660dcf77f629",
   "metadata": {},
   "outputs": [
    {
     "name": "stdout",
     "output_type": "stream",
     "text": [
      "Takes 226.6561 sec.\n"
     ]
    }
   ],
   "source": [
    "# Process\n",
    "count = time.time()\n",
    "lat, lon, IVT = IVT(np.arange(config['crop_year'][0], config['crop_year'][1]+1), config['crop_month'], config['crop_region'])\n",
    "print(f\"Takes {(time.time()-count):.4f} sec.\")"
   ]
  },
  {
   "cell_type": "code",
   "execution_count": 8,
   "id": "ec7dddab-7051-4a7a-9f17-361ea10ec886",
   "metadata": {},
   "outputs": [],
   "source": [
    "\n",
    "os.chdir(config['ImgPath'])\n",
    "for yr in range(43):\n",
    "    for day in range(61):\n",
    "        fig, ax = plt.subplots(figsize = (10, 10),\n",
    "                               dpi = 150,\n",
    "                               subplot_kw = {'projection' : ccrs.PlateCarree()})\n",
    "        ax.coastlines()\n",
    "        ax.quiver(lon[::7], lat[::7], IVT[0][yr,day,::7,::7], IVT[1][yr,day,::7,::7])\n",
    "        ax.set_xticks(np.linspace(config['crop_region'][1][0], config['crop_region'][1][1], 7), crs=ccrs.PlateCarree())\n",
    "        ax.set_yticks(np.linspace(config['crop_region'][0][0], config['crop_region'][0][1], 5), crs=ccrs.PlateCarree())\n",
    "        lon_formatter = LongitudeFormatter(zero_direction_label=True,number_format='.0f')\n",
    "        lat_formatter = LatitudeFormatter()\n",
    "        ax.xaxis.set_major_formatter(lon_formatter)\n",
    "        ax.yaxis.set_major_formatter(lat_formatter)\n",
    "        \n",
    "        if day<31:\n",
    "            plt.title(f'{yr+1979} May {day+1:02}', fontsize=16)\n",
    "            #plt.savefig(f'{yr+1979}_05_{day+1:02}.png')\n",
    "        else:\n",
    "            plt.title(f'{yr+1979} June {day%31+1:02}', fontsize=16)\n",
    "            #plt.savefig(f'{yr+1979}_06_{day%31+1:02}.png')\n",
    "        plt.close()\n"
   ]
  },
  {
   "cell_type": "code",
   "execution_count": null,
   "id": "921c50c4-8de4-4b25-bb2f-110da3dd8e01",
   "metadata": {},
   "outputs": [],
   "source": []
  },
  {
   "cell_type": "code",
   "execution_count": null,
   "id": "fc40c1e2-8db0-4786-8b2c-142330a5a73a",
   "metadata": {},
   "outputs": [],
   "source": []
  }
 ],
 "metadata": {
  "kernelspec": {
   "display_name": "Python [conda env:default_env] *",
   "language": "python",
   "name": "conda-env-default_env-py"
  },
  "language_info": {
   "codemirror_mode": {
    "name": "ipython",
    "version": 3
   },
   "file_extension": ".py",
   "mimetype": "text/x-python",
   "name": "python",
   "nbconvert_exporter": "python",
   "pygments_lexer": "ipython3",
   "version": "3.9.13"
  }
 },
 "nbformat": 4,
 "nbformat_minor": 5
}
