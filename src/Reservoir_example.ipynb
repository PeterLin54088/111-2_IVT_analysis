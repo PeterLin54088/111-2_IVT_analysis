{
 "cells": [
  {
   "cell_type": "code",
   "execution_count": 1,
   "metadata": {
    "id": "8f4sxCTYfUYJ"
   },
   "outputs": [],
   "source": [
    "# create three chaos models \n",
    "import numpy as np\n",
    "import os\n",
    "os.environ[\"OMP_NUM_THREADS\"] = \"4\" # export OMP_NUM_THREADS=4\n",
    "os.environ[\"OPENBLAS_NUM_THREADS\"] = \"4\" # export OPENBLAS_NUM_THREADS=4 \n",
    "os.environ[\"MKL_NUM_THREADS\"] = \"6\" # export MKL_NUM_THREADS=6\n",
    "os.environ[\"VECLIB_MAXIMUM_THREADS\"] = \"4\" # export VECLIB_MAXIMUM_THREADS=4\n",
    "os.environ[\"NUMEXPR_NUM_THREADS\"] = \"6\" # export NUMEXPR_NUM_THREADS=6\n",
    "import matplotlib.pyplot as plt\n",
    "class ChaosAttractors():\n",
    "    \"\"\"\n",
    "    Initial conditions for the systems to display chaotic behaviour are \n",
    "    defined as follows:\n",
    "\n",
    "    Lorenz 63 -> s = 10, r = 8/3, b = 28 and dt = 0.01\n",
    "    Fabrikant-Rabinovich -> a = 0.14, g = 0.1 and dt = 0.01\n",
    "    Rossler -> a = 0.2, b = 0.2, c = 6.3 and dt = 0.01 \n",
    "    \"\"\"\n",
    "    def __init__(self, steps, lrz_s=10, lrz_r=28, lrz_b=8/3, lrz_dt = 0.01, \n",
    "                 rab_fab_a = 0.14, rab_fab_g = 0.1, rab_fab_dt = 0.01,\n",
    "                 ros_a=0.2, ros_b=0.2, ros_c=6.3, ros_dt = 0.01):\n",
    "        self.lrz_s = lrz_s\n",
    "        self.lrz_b = lrz_b\n",
    "        self.lrz_r = lrz_r\n",
    "        self.lrz_dt = lrz_dt\n",
    "        self.rab_fab_a = rab_fab_a\n",
    "        self.rab_fab_g = rab_fab_g\n",
    "        self.rab_fab_dt = rab_fab_dt\n",
    "        self.ros_a = ros_a\n",
    "        self.ros_b = ros_b\n",
    "        self.ros_c = ros_c\n",
    "        self.ros_dt = ros_dt\n",
    "        self.steps = steps\n",
    "        \n",
    "    \"\"\"Lorenz 63 System\"\"\"    \n",
    "    def lorenz63(self):\n",
    "        xs = np.empty((self.steps + 1,))\n",
    "        ys = np.empty((self.steps + 1,))\n",
    "        zs = np.empty((self.steps + 1,))\n",
    "        \n",
    "        xs[0], ys[0], zs[0] = (1.0, 1.0, 1.0)\n",
    "        for i in range(self.steps):\n",
    "            x_dot = self.lrz_s*(ys[i] - xs[i])\n",
    "            y_dot = self.lrz_r*xs[i] - ys[i] - xs[i]*zs[i]\n",
    "            z_dot = xs[i]*ys[i] - self.lrz_b*zs[i]\n",
    "            xs[i + 1] = xs[i] + (x_dot * self.lrz_dt)\n",
    "            ys[i + 1] = ys[i] + (y_dot * self.lrz_dt)\n",
    "            zs[i + 1] = zs[i] + (z_dot * self.lrz_dt)\n",
    "        return xs, ys, zs\n",
    "    \n",
    "    \"\"\"Rabinovich–Fabrikant equations\"\"\"\n",
    "    def rabinovich_fabrikant(self):\n",
    "        xs = np.zeros((self.steps))\n",
    "       \tys = np.zeros((self.steps))\n",
    "       \tzs = np.zeros((self.steps))\n",
    "       \txs[0] ,ys[0] ,zs[0] = (-1,0,0.5)\n",
    "       \t\n",
    "       \tfor i in range(1,self.steps):\n",
    "       \t\tx = xs[i-1]\n",
    "       \t\ty = ys[i-1]\n",
    "       \t\tz = zs[i-1]\n",
    "       \t\tdx = y*(z - 1 + x*x) + self.rab_fab_g*x\n",
    "       \t\tdy = x*(3*z + 1 - x*x) + self.rab_fab_g *y\n",
    "       \t\tdz = -2*z*(self.rab_fab_a  + x*y)\n",
    "       \t\txs[i] = x+self.rab_fab_dt*dx\n",
    "       \t\tys[i] = y+self.rab_fab_dt*dy\n",
    "       \t\tzs[i] = z+self.rab_fab_dt*dz\n",
    "        return xs, ys, zs\n",
    "    \n",
    "    \"\"\"Rossler Hyperchaotic System\"\"\"\n",
    "    def rossler(self):\n",
    "        xs = np.empty([self.steps + 1])\n",
    "        ys = np.empty([self.steps + 1])\n",
    "        zs = np.empty([self.steps + 1])\n",
    "        xs[0], ys[0], zs[0] = (1.0, 1.0, 1.0)\n",
    "        \n",
    "        for i in range(self.steps):\n",
    "            x_dot = -ys[i] - zs[i]\n",
    "            y_dot = xs[i] + self.ros_a*ys[i]\n",
    "            z_dot = self.ros_b + xs[i]*zs[i] - self.ros_c*zs[i]\n",
    "            xs[i+1] = xs[i] + (x_dot * self.ros_dt)\n",
    "            ys[i+1] = ys[i] + (y_dot * self.ros_dt)\n",
    "            zs[i+1] = zs[i] + (z_dot * self.ros_dt)\n",
    "        return xs, ys, zs"
   ]
  },
  {
   "cell_type": "code",
   "execution_count": 2,
   "metadata": {
    "colab": {
     "base_uri": "https://localhost:8080/",
     "height": 444
    },
    "id": "K5Qt5zwPfcW2",
    "outputId": "1e024728-53d4-4d1d-ff58-02e24ea3d64e"
   },
   "outputs": [],
   "source": [
    "import numpy as np\n",
    "import matplotlib.pyplot as plt\n",
    "from sklearn.decomposition import PCA\n",
    "from netCDF4 import Dataset as NetCDFFile\n",
    "import random\n",
    "import timeit\n",
    "import pickle\n",
    "from scipy import stats\n",
    "import xarray as xr\n",
    "import pandas as pd\n",
    "import statistics\n",
    "from scipy import interpolate\n",
    "import os\n",
    "import pytz, datetime\n",
    "import multiprocessing as mp\n",
    "# System\n",
    "import time\n",
    "import json\n",
    "from sklearn.preprocessing import MinMaxScaler"
   ]
  },
  {
   "cell_type": "code",
   "execution_count": 3,
   "metadata": {
    "id": "nl6UTDa_fi7O"
   },
   "outputs": [
    {
     "name": "stdout",
     "output_type": "stream",
     "text": [
      "(5001, 3)\n"
     ]
    }
   ],
   "source": [
    "# generate data\n",
    "# Define length of the chaotic time series\n",
    "attractors_series  = ChaosAttractors(6000)\n",
    "# Obtain the time series for the Lorenz systems\n",
    "lorenz_x, lorenz_y, lorenz_z = attractors_series.lorenz63()\n",
    "\n",
    "lorenz_x = np.reshape(lorenz_x,[np.size(lorenz_x),1])[1000:,]\n",
    "lorenz_y = np.reshape(lorenz_y,[np.size(lorenz_y),1])[1000:,] \n",
    "lorenz_z = np.reshape(lorenz_z,[np.size(lorenz_z),1])[1000:,]\n",
    "\n",
    "data = np.concatenate([lorenz_x,lorenz_y,lorenz_z],axis=1)\n",
    "\n",
    "print(data.shape)"
   ]
  },
  {
   "cell_type": "code",
   "execution_count": 4,
   "metadata": {},
   "outputs": [],
   "source": [
    "# Config path\n",
    "root = '/Volumes/Expansion/User_Backup/b08209033/111-2_IVT_analysis/'\n",
    "folder = '2023_0330'\n",
    "file = 'src/config.json'\n",
    "config_path = os.path.join(os.path.join(root, folder), file)\n",
    "\n",
    "# Import config\n",
    "with open(config_path) as infile:\n",
    "    config = json.load(infile)\n",
    "    infile.close()\n",
    "\n",
    "# Export config\n",
    "with open(config_path, 'w') as outfile:\n",
    "    json.dump(config, outfile, sort_keys=True)\n",
    "    outfile.close()"
   ]
  },
  {
   "cell_type": "code",
   "execution_count": 5,
   "metadata": {},
   "outputs": [
    {
     "name": "stdout",
     "output_type": "stream",
     "text": [
      "(15695, 38)\n"
     ]
    }
   ],
   "source": [
    "os.chdir(config[\"IVTPath\"])\n",
    "with np.load(config[\"IVT_SVD_fname\"]) as dataset:\n",
    "    time_structure = dataset['time']\n",
    "    feature_num = int(dataset['feature_threshold'][0][0])\n",
    "\n",
    "# Choose k important structure\n",
    "time_structure = (time_structure[:feature_num]).T\n",
    "\n",
    "# Test\n",
    "scaler = MinMaxScaler(feature_range=(-1,1))\n",
    "time_structure = scaler.fit_transform(time_structure)\n",
    "#scaler.inverse_transform(scaled_data)\n",
    "print(time_structure.shape)"
   ]
  },
  {
   "cell_type": "code",
   "execution_count": 6,
   "metadata": {},
   "outputs": [],
   "source": [
    "# VAR\n",
    "from statsmodels.tsa.api import VAR\n",
    "results = VAR(time_structure[:11780]).fit(maxlags = 1, trend='n')"
   ]
  },
  {
   "cell_type": "code",
   "execution_count": null,
   "metadata": {},
   "outputs": [],
   "source": []
  },
  {
   "cell_type": "code",
   "execution_count": 301,
   "metadata": {
    "id": "VSR0vpmbfmOO"
   },
   "outputs": [
    {
     "name": "stdout",
     "output_type": "stream",
     "text": [
      "Computing spectral radius...\n",
      "done.\n"
     ]
    }
   ],
   "source": [
    "# 3-D case\n",
    "# -*- coding: utf-8 -*-\n",
    "\"\"\"\n",
    "A minimalistic Echo State Networks demo with Mackey-Glass (delay 17) data \n",
    "in \"plain\" scientific Python.\n",
    "from https://mantas.info/code/simple_esn/\n",
    "(c) 2012-2020 Mantas LukoÅ¡eviÄius\n",
    "Distributed under MIT license https://opensource.org/licenses/MIT\n",
    "\"\"\"\n",
    "import numpy as np\n",
    "import matplotlib.pyplot as plt\n",
    "from scipy import linalg \n",
    "# numpy.linalg is also an option for even fewer dependencies\n",
    "\n",
    "# load the data\n",
    "trainLen = 12000\n",
    "testLen  = 3000\n",
    "initLen = 1000\n",
    "#data = np.loadtxt('/content/MackeyGlass_t17.txt')\n",
    "\n",
    "\n",
    "# generate the ESN reservoir\n",
    "inSize = outSize = 38\n",
    "resSize = 2000\n",
    "a = 0.9 # leaking rate\n",
    "np.random.seed(42)\n",
    "Win = (np.random.rand(resSize,1+inSize) - 0.5) * 1\n",
    "W = np.random.rand(resSize,resSize) - 0.5 \n",
    "# normalizing and setting spectral radius (correct, slow):\n",
    "print('Computing spectral radius...')\n",
    "rhoW = np.max(np.abs(np.linalg.eig(W)[0]))\n",
    "print('done.')\n",
    "W *= 1.25 / rhoW\n",
    "\n",
    "# allocated memory for the design (collected states) matrix\n",
    "X = np.zeros((1+inSize+resSize,trainLen-initLen))\n",
    "# set the corresponding target matrix directly\n",
    "Yt = time_structure[None,initLen+1:trainLen+1]\n",
    "# run the reservoir with the data and collect X\n",
    "x = np.zeros((resSize,1))\n",
    "for t in range(trainLen):\n",
    "    u = time_structure[t,:]\n",
    "    u = np.reshape(u,[inSize,1])\n",
    "    unit = np.ones((1,1))\n",
    "    x = (1-a)*x + a*np.tanh( np.dot( Win, np.vstack((1,u))) + np.dot( W, x ) )\n",
    "    if t >= initLen:\n",
    "        X[:,t-initLen] = np.vstack((1,u,x))[:,0]\n",
    "    \n",
    "# train the output by ridge regression\n",
    "reg = 1e-8 # regularization coefficient\n",
    "# direct equations from texts:\n",
    "#X_T = X.T\n",
    "#Wout = np.dot( np.dot(Yt,X_T), linalg.inv( np.dot(X,X_T) + \\\n",
    "#    reg*np.eye(1+inSize+resSize) ) )\n",
    "# using scipy.linalg.solve:\n",
    "Wout = linalg.solve( np.dot(X,X.T) + reg*np.eye(1+inSize+resSize), \n",
    "    np.dot(X,Yt.T) ).T\n",
    "\n",
    "\n",
    "\n",
    "\n"
   ]
  },
  {
   "cell_type": "code",
   "execution_count": 302,
   "metadata": {},
   "outputs": [
    {
     "name": "stdout",
     "output_type": "stream",
     "text": [
      "MSE = 0.09192026489465617\n"
     ]
    }
   ],
   "source": [
    "\n",
    "# run the trained ESN in a generative mode. no need to initialize here, \n",
    "# because x is initialized with training data and we continue from there.\n",
    "Y = np.zeros((outSize,testLen))\n",
    "u = time_structure[trainLen,:]\n",
    "u = np.reshape(u,[inSize,1])\n",
    "x_record = x\n",
    "for t in range(testLen):\n",
    "    x = (1-a)*x + a*np.tanh( np.dot( Win, np.vstack((unit,u)) ) + np.dot( W, x ) )\n",
    "    y = np.dot( Wout, np.vstack((1,u,x)) )\n",
    "    Y[:,t] = np.squeeze(y)\n",
    "    # generative mode:\n",
    "    #u = y\n",
    "    #u = np.reshape(u,[inSize,1])\n",
    "    ## this would be a predictive mode:\n",
    "    u = time_structure[trainLen+t+1]\n",
    "    u = np.reshape(u,[inSize,1])\n",
    "\n",
    "# compute MSE for the first errorLen time steps\n",
    "errorLen = 3000\n",
    "mse = np.mean(np.sqrt(( np.square( time_structure[trainLen+1:trainLen+errorLen+1] - np.transpose(Y[:,0:errorLen]) ) )))\n",
    "print('MSE = ' + str( mse ))\n"
   ]
  },
  {
   "cell_type": "code",
   "execution_count": 294,
   "metadata": {},
   "outputs": [
    {
     "data": {
      "text/plain": [
       "[<matplotlib.lines.Line2D at 0x3460ab6d0>]"
      ]
     },
     "execution_count": 294,
     "metadata": {},
     "output_type": "execute_result"
    },
    {
     "data": {
      "image/png": "[encoded data removed]",
      "text/plain": [
       "<Figure size 640x480 with 1 Axes>"
      ]
     },
     "metadata": {},
     "output_type": "display_data"
    }
   ],
   "source": [
    "# model output\n",
    "first_t = 7*7\n",
    "feat = 0\n",
    "plt.figure()\n",
    "plt.plot([0,first_t-1],[0,0], \"k--\")\n",
    "plt.plot(Y[feat,:first_t],zorder = 1)\n",
    "plt.plot(time_structure[trainLen+1:trainLen+first_t+1,feat], zorder = -1)"
   ]
  },
  {
   "cell_type": "code",
   "execution_count": null,
   "metadata": {},
   "outputs": [],
   "source": []
  }
 ],
 "metadata": {
  "colab": {
   "provenance": []
  },
  "kernelspec": {
   "display_name": "Pcore_env",
   "language": "python",
   "name": "pcore_env"
  },
  "language_info": {
   "codemirror_mode": {
    "name": "ipython",
    "version": 3
   },
   "file_extension": ".py",
   "mimetype": "text/x-python",
   "name": "python",
   "nbconvert_exporter": "python",
   "pygments_lexer": "ipython3",
   "version": "3.10.10"
  }
 },
 "nbformat": 4,
 "nbformat_minor": 4
}
